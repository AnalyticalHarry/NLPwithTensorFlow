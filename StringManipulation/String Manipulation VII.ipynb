{
 "cells": [
  {
   "cell_type": "markdown",
   "id": "e2c914a2-8de5-467d-a78c-e055d01a0766",
   "metadata": {},
   "source": [
    "## String Manipulation VII"
   ]
  },
  {
   "cell_type": "markdown",
   "id": "b80a0a15-9d6e-4669-840c-d8208968f88a",
   "metadata": {},
   "source": [
    "#### Hemant Thapa"
   ]
  },
  {
   "cell_type": "code",
   "execution_count": 1,
   "id": "b2b1496e-e7ea-44e9-86ec-e52e6e450c3d",
   "metadata": {},
   "outputs": [],
   "source": [
    "import re\n",
    "import json\n",
    "import string"
   ]
  },
  {
   "cell_type": "code",
   "execution_count": 2,
   "id": "33c77631-b20c-45fc-bea9-fe5ea99c8b99",
   "metadata": {},
   "outputs": [],
   "source": [
    "# importing unicode_range.py file and list \n",
    "from unicode_range import unicode_range"
   ]
  },
  {
   "cell_type": "code",
   "execution_count": 3,
   "id": "56461b55-00ae-4d14-b0a6-3511d8734dd3",
   "metadata": {},
   "outputs": [],
   "source": [
    "# contractions dictionary\n",
    "contractions_dict = {\n",
    "    \"can't\": \"cannot\",\n",
    "    \"can\\'t\": \"cannot\",\n",
    "    \"n't\": \" not\",\n",
    "    \"n\\'t\": \" not\",\n",
    "    \"'re\": \" are\",\n",
    "    \"’re\": \" are\",\n",
    "    \"'s\": \" is\",\n",
    "    \"’s\": \" is\",\n",
    "    \"'d\": \" would\",\n",
    "    \"’d\": \" would\",\n",
    "    \"'ll\": \" will\",\n",
    "    \"’ll\": \" will\",\n",
    "    \"'t\": \" not\",\n",
    "    \"’t\": \" not\",\n",
    "    \"'ve\": \" have\",\n",
    "    \"’ve\": \" have\",\n",
    "    \"'m\": \" am\",\n",
    "    \"’m\": \" am\",\n",
    "    \"I'm\": \"I am\",\n",
    "    \"i'm\": \"i am\",\n",
    "    \"you're\": \"you are\",\n",
    "    \"he's\": \"he is\",\n",
    "    \"they're\": \"they are\",\n",
    "    \"we're\": \"we are\",\n",
    "    \"it's\": \"it is\",\n",
    "    \"isn't\": \"is not\",\n",
    "    \"aren't\": \"are not\",\n",
    "    \"wasn't\": \"was not\",\n",
    "    \"weren't\": \"were not\",\n",
    "    \"haven't\": \"have not\",\n",
    "    \"hasn't\": \"has not\",\n",
    "    \"hadn't\": \"had not\",\n",
    "    \"won't\": \"will not\",\n",
    "    \"wouldn't\": \"would not\",\n",
    "    \"don't\": \"do not\",\n",
    "    \"doesn't\": \"does not\",\n",
    "    \"didn't\": \"did not\",\n",
    "    \"cannot\": \"can not\",\n",
    "    \"could've\": \"could have\",\n",
    "    \"might've\": \"might have\",\n",
    "    \"must've\": \"must have\",\n",
    "    \"should've\": \"should have\",\n",
    "    \"would've\": \"would have\",\n",
    "}"
   ]
  },
  {
   "cell_type": "code",
   "execution_count": 4,
   "id": "6e4c8c91-45bf-4da1-9556-a528a89db338",
   "metadata": {},
   "outputs": [],
   "source": [
    "def preprocess_text(text):\n",
    "    # function to remove emojis\n",
    "    def remove_emoji(text, unicode_ranges):\n",
    "        emoji_pattern = re.compile(f\"[{''.join(unicode_ranges)}]+\", flags=re.UNICODE)\n",
    "        return emoji_pattern.sub(r'', text)\n",
    "\n",
    "    # function to expand contractions\n",
    "    def expand_contractions(text, contractions_dict):\n",
    "        contractions_re = re.compile('(%s)' % '|'.join(contractions_dict.keys()))\n",
    "\n",
    "        def replace(match):\n",
    "            return contractions_dict[match.group(0)]\n",
    "\n",
    "        return contractions_re.sub(replace, text)\n",
    "\n",
    "    # F=function to remove multiple consecutive spaces\n",
    "    def remove_mult_spaces(text):\n",
    "        return re.sub(r'\\s+', ' ', text).strip()\n",
    "\n",
    "    # function to remove symbols, hashtags, and punctuation\n",
    "    def removing_symbols(text):\n",
    "        text_without_hashtags = \" \".join(word.strip() for word in re.split('#(?!(?:hashtag)\\b)[\\w-]+(?=(?:\\s+#[\\w-]+)*\\s*$)', text))\n",
    "        text_without_underscores = \" \".join(word.strip() for word in re.split('#|_', text_without_hashtags))\n",
    "        cleaned_text = re.sub(r'[!?]', '', text_without_underscores)\n",
    "        return cleaned_text\n",
    "\n",
    "    # function to filter out words containing '$' or '&'\n",
    "    def filter_char(text):\n",
    "        filtered_words = [word for word in text.split() if '$' not in word and '&' not in word]\n",
    "        return ' '.join(filtered_words)\n",
    "\n",
    "    # remove emojis\n",
    "    text = remove_emoji(text, unicode_range)\n",
    "    # expand contractions\n",
    "    text = expand_contractions(text, contractions_dict)\n",
    "    # normalise whitespace and lowercase the text\n",
    "    text = text.replace('\\r', '').replace('\\n', ' ').lower()\n",
    "    # remove URLs, non-ASCII characters, and numbers\n",
    "    url_pattern = re.compile(r'https?://\\S+|www\\.\\S+')\n",
    "    non_ascii_pattern = re.compile(r'[^\\x00-\\x7f]')\n",
    "    number_pattern = re.compile(r'[0-9]+')\n",
    "    text = url_pattern.sub('', text)\n",
    "    text = non_ascii_pattern.sub('', text)\n",
    "    text = number_pattern.sub('', text)\n",
    "    # remove punctuation using translate\n",
    "    text = text.translate(str.maketrans('', '', string.punctuation))\n",
    "    # remove symbols, hashtags, and punctuation\n",
    "    text = removing_symbols(text)\n",
    "    # filter out words containing '$' or '&'\n",
    "    text = filter_char(text)\n",
    "    # remove multiple consecutive spaces\n",
    "    text = remove_mult_spaces(text)\n",
    "\n",
    "    return text"
   ]
  },
  {
   "cell_type": "code",
   "execution_count": 5,
   "id": "dae7da9f-63b3-49c7-a4cb-c8b99f84af57",
   "metadata": {},
   "outputs": [],
   "source": [
    "# single text containing various elements\n",
    "test_text = \"\"\"\n",
    "This is a test text containing various elements such as emojis 😊, contractions like can't,\n",
    "multiple spaces     and symbols! @#$ Let's see how the preprocess_text function handles all of them. #Testing123\n",
    "\"\"\""
   ]
  },
  {
   "cell_type": "code",
   "execution_count": 6,
   "id": "6a6480b2-b065-4f53-8212-8b4954a1de5b",
   "metadata": {},
   "outputs": [
    {
     "name": "stdout",
     "output_type": "stream",
     "text": [
      "Processed text: this is a test text containing various elements such as emojis contractions like cannot multiple spaces and symbols let is see how the preprocesstext function handles all of them testing\n"
     ]
    }
   ],
   "source": [
    "# preprocess_text function to the test text\n",
    "processed_text = preprocess_text(test_text)\n",
    "print(\"Processed text:\", processed_text)"
   ]
  }
 ],
 "metadata": {
  "kernelspec": {
   "display_name": "Python 3 (ipykernel)",
   "language": "python",
   "name": "python3"
  },
  "language_info": {
   "codemirror_mode": {
    "name": "ipython",
    "version": 3
   },
   "file_extension": ".py",
   "mimetype": "text/x-python",
   "name": "python",
   "nbconvert_exporter": "python",
   "pygments_lexer": "ipython3",
   "version": "3.11.7"
  }
 },
 "nbformat": 4,
 "nbformat_minor": 5
}
