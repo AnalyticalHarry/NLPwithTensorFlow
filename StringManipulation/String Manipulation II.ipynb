{
 "cells": [
  {
   "cell_type": "markdown",
   "id": "2594b4e0-fa9d-43d5-bef6-94cec2914d0c",
   "metadata": {},
   "source": [
    "## String Manipulation II"
   ]
  },
  {
   "cell_type": "markdown",
   "id": "b498f3a3-cfdb-46a2-a82e-889a107964e0",
   "metadata": {},
   "source": [
    "#### Hemant Thapa"
   ]
  },
  {
   "cell_type": "markdown",
   "id": "7fc912cf-63c9-4041-af80-760a9a210c65",
   "metadata": {},
   "source": [
    "Regular Expressions"
   ]
  },
  {
   "cell_type": "markdown",
   "id": "4f189003-6b6b-4334-94b3-8cf81d904b72",
   "metadata": {},
   "source": [
    "Python's re module allows for complex string searching and manipulation using regular expressions. This is powerful for pattern matching, searching, and complex replacements."
   ]
  },
  {
   "cell_type": "code",
   "execution_count": 1,
   "id": "7c424ba1-190b-4254-bcd3-24d686162af7",
   "metadata": {},
   "outputs": [],
   "source": [
    "import re\n",
    "import string\n",
    "from string import Template"
   ]
  },
  {
   "cell_type": "markdown",
   "id": "b17dc832-f3f6-4fd0-98b8-393d609f53de",
   "metadata": {},
   "source": [
    "##### 1. Searching with Regular Expression "
   ]
  },
  {
   "cell_type": "code",
   "execution_count": 2,
   "id": "aa9aec4d-c720-484d-9502-863f4c8b1ed8",
   "metadata": {},
   "outputs": [],
   "source": [
    "string = \"\"\"\n",
    "With its mountainous landscape, it is no coincidence that on average it is Scotland that receives the most annual rain in the UK.\n",
    "The wettest parts of the UK are generally in mountainous regions, with the Western Highlands prone to high levels of rain. \n",
    "Here, rainfall can be 3,000 millimeters per year. However, the East of Scotland can see levels as low as 800 millimeters. \n",
    "This is often due to rainfall from the Atlantic weather systems coming in from the West and as these systems move east, rain deposits reduce.\n",
    "\"\"\""
   ]
  },
  {
   "cell_type": "code",
   "execution_count": 3,
   "id": "03aca1ae-1789-41ce-9292-151e73a9239d",
   "metadata": {},
   "outputs": [
    {
     "name": "stdout",
     "output_type": "stream",
     "text": [
      "We have a match!\n"
     ]
    }
   ],
   "source": [
    "match = re.search(\"Atlantic\", string)\n",
    "if match:\n",
    "    print(\"We have a match!\")\n",
    "else:\n",
    "    print(\"No Match\")"
   ]
  },
  {
   "cell_type": "markdown",
   "id": "60708c84-9094-42e3-9928-ab401bc69455",
   "metadata": {},
   "source": [
    "##### 2. Splitting Regular Expressions"
   ]
  },
  {
   "cell_type": "code",
   "execution_count": 4,
   "id": "0b2029cd-ebb2-40c9-8155-33a91e36ad86",
   "metadata": {},
   "outputs": [],
   "source": [
    "word_split = re.split(\"\\s\", string[0:53])"
   ]
  },
  {
   "cell_type": "code",
   "execution_count": 5,
   "id": "a005d866-9972-404b-a321-bedb3b178192",
   "metadata": {},
   "outputs": [
    {
     "data": {
      "text/plain": [
       "['',\n",
       " 'With',\n",
       " 'its',\n",
       " 'mountainous',\n",
       " 'landscape,',\n",
       " 'it',\n",
       " 'is',\n",
       " 'no',\n",
       " 'coincidence']"
      ]
     },
     "execution_count": 5,
     "metadata": {},
     "output_type": "execute_result"
    }
   ],
   "source": [
    "word_split"
   ]
  },
  {
   "cell_type": "markdown",
   "id": "ce46f0a4-2689-4b82-b02f-3f0db70dff1d",
   "metadata": {},
   "source": [
    "##### 3. Replacing with Regular Expression "
   ]
  },
  {
   "cell_type": "code",
   "execution_count": 6,
   "id": "615db3c4-8252-419f-a5ae-20376a5baf92",
   "metadata": {},
   "outputs": [],
   "source": [
    "statement = \"Scotland has a cold wheather\""
   ]
  },
  {
   "cell_type": "code",
   "execution_count": 7,
   "id": "c6706d1e-f82d-4b90-878b-3feb69ac1132",
   "metadata": {},
   "outputs": [
    {
     "name": "stdout",
     "output_type": "stream",
     "text": [
      "$cotl@nd h@s @ cold whe@ther\n"
     ]
    }
   ],
   "source": [
    "new_word = re.sub(\"S\", \"$\", statement)\n",
    "new_word_2 = re.sub(\"a\", \"@\", new_word)\n",
    "print(new_word_2)"
   ]
  },
  {
   "cell_type": "code",
   "execution_count": 8,
   "id": "d55b4295-af7a-4d93-8fad-ef11b51c1f26",
   "metadata": {},
   "outputs": [],
   "source": [
    "def replace_multiple(char):\n",
    "    replacements = {\"S\": \"$\", \"a\": \"@\", \"o\": \"0\"}\n",
    "    return replacements.get(char, char)"
   ]
  },
  {
   "cell_type": "code",
   "execution_count": 9,
   "id": "8c2e0c66-733e-48e2-9cb8-85a7c5b67de6",
   "metadata": {},
   "outputs": [
    {
     "name": "stdout",
     "output_type": "stream",
     "text": [
      "$cotl@nd h@s @ cold whe@ther\n"
     ]
    }
   ],
   "source": [
    "new_statement = re.sub(\"[Sa]\", lambda match: replace_multiple(match.group(0)), statement)\n",
    "print(new_statement)"
   ]
  },
  {
   "cell_type": "markdown",
   "id": "d2a05523-558c-4d7e-a0e3-8d2eb778177e",
   "metadata": {},
   "source": [
    "##### 4. Count Occurrences of a Substring"
   ]
  },
  {
   "cell_type": "code",
   "execution_count": 10,
   "id": "ab54639c-79bc-450d-bcd8-24543aa5df94",
   "metadata": {},
   "outputs": [
    {
     "name": "stdout",
     "output_type": "stream",
     "text": [
      "Scotland has a cold wheather\n"
     ]
    }
   ],
   "source": [
    "print(statement)"
   ]
  },
  {
   "cell_type": "code",
   "execution_count": 11,
   "id": "70e72d67-35a0-43b3-bd8b-66d8bad4cc9b",
   "metadata": {},
   "outputs": [
    {
     "name": "stdout",
     "output_type": "stream",
     "text": [
      "4\n"
     ]
    }
   ],
   "source": [
    "count = statement.count(\"a\")\n",
    "print(count)"
   ]
  },
  {
   "cell_type": "markdown",
   "id": "c3630987-2f98-400d-b316-1079daf37416",
   "metadata": {},
   "source": [
    "##### 5. Find All Occurrences of a Substring"
   ]
  },
  {
   "cell_type": "code",
   "execution_count": 12,
   "id": "7a7a0d26-2159-45f6-b6e9-12402d9fd871",
   "metadata": {},
   "outputs": [],
   "source": [
    "def find_all(sub, string):\n",
    "    start = 0\n",
    "    while start < len(string):\n",
    "        start = string.find(sub, start)\n",
    "        if start == -1:return\n",
    "        yield start\n",
    "        start += 1"
   ]
  },
  {
   "cell_type": "code",
   "execution_count": 13,
   "id": "2462b787-d00e-468a-9bae-f72deb462caa",
   "metadata": {},
   "outputs": [
    {
     "name": "stdout",
     "output_type": "stream",
     "text": [
      "[6, 9, 15, 26, 31, 41]\n"
     ]
    }
   ],
   "source": [
    "indices = list(find_all('in', \"The rain in Spain falls mainly in the plain\"))\n",
    "print(indices)"
   ]
  },
  {
   "cell_type": "markdown",
   "id": "f775de90-e94d-4d03-acfa-3ab205e789cc",
   "metadata": {},
   "source": [
    "##### 6. String Interpolation / Template Strings"
   ]
  },
  {
   "cell_type": "code",
   "execution_count": 14,
   "id": "b8452459-14e3-4d62-b088-c17070b5566b",
   "metadata": {},
   "outputs": [
    {
     "name": "stdout",
     "output_type": "stream",
     "text": [
      "Hello, Harry, How you doing?\n"
     ]
    }
   ],
   "source": [
    "t = Template('Hello, $name, $greeting')\n",
    "string = t.substitute(name=\"Harry\", greeting=\"How you doing?\")\n",
    "print(string)"
   ]
  },
  {
   "cell_type": "markdown",
   "id": "ca161be1-1646-41f4-9aee-2e98f885b330",
   "metadata": {},
   "source": [
    "##### 7.  Encoding and Decoding Strings"
   ]
  },
  {
   "cell_type": "code",
   "execution_count": 15,
   "id": "9ca5d9f5-36ad-44de-a5b3-ceb39a061205",
   "metadata": {},
   "outputs": [
    {
     "data": {
      "text/plain": [
       "b'Coding in Python and JavaScript is interesting'"
      ]
     },
     "execution_count": 15,
     "metadata": {},
     "output_type": "execute_result"
    }
   ],
   "source": [
    "string = \"Coding in Python and JavaScript is interesting\"\n",
    "encode = string.encode(\"ascii\", \"ignore\")\n",
    "encode"
   ]
  },
  {
   "cell_type": "code",
   "execution_count": 16,
   "id": "51a26c6b-3f60-4cbf-9179-ede8010aa1b1",
   "metadata": {},
   "outputs": [
    {
     "data": {
      "text/plain": [
       "'Coding in Python and JavaScript is interesting'"
      ]
     },
     "execution_count": 16,
     "metadata": {},
     "output_type": "execute_result"
    }
   ],
   "source": [
    "decode = encode.decode()\n",
    "decode"
   ]
  },
  {
   "cell_type": "code",
   "execution_count": 17,
   "id": "9cfffb89-3e45-46d3-8762-e6ef82519b33",
   "metadata": {},
   "outputs": [
    {
     "name": "stdout",
     "output_type": "stream",
     "text": [
      "Hello, world! 🌍\n"
     ]
    }
   ],
   "source": [
    "#writing to a file with non-ASCII characters\n",
    "with open('example.txt', 'w', encoding='utf-8') as file:\n",
    "    file.write(\"Hello, world! 🌍\")\n",
    "\n",
    "#reading from the file\n",
    "with open('example.txt', 'r', encoding='utf-8') as file:\n",
    "    content = file.read()\n",
    "    print(content)"
   ]
  },
  {
   "cell_type": "markdown",
   "id": "adfd5a6c-7911-4d7f-be9f-93ac28905005",
   "metadata": {},
   "source": [
    "##### 8. Working with Unicode Data"
   ]
  },
  {
   "cell_type": "code",
   "execution_count": 18,
   "id": "3eff01ca-0c3e-4dcd-8c97-484ff259c664",
   "metadata": {},
   "outputs": [
    {
     "name": "stdout",
     "output_type": "stream",
     "text": [
      "b'Pyth\\xc3\\xb6n!'\n",
      "Pythön!\n"
     ]
    }
   ],
   "source": [
    "string = \"Pythön!\"\n",
    "#encoding to UTF-8\n",
    "print(string.encode(\"utf-8\")) \n",
    "#decoding back to a string\n",
    "print(string.encode(\"utf-8\").decode(\"utf-8\"))  "
   ]
  },
  {
   "cell_type": "markdown",
   "id": "1d2acb81-fd01-4b6e-9553-a8de1ffa8751",
   "metadata": {},
   "source": [
    "##### 9. Working with Bytes"
   ]
  },
  {
   "cell_type": "code",
   "execution_count": 19,
   "id": "682e4f54-565d-4ae2-9cba-1dada669a523",
   "metadata": {},
   "outputs": [
    {
     "name": "stdout",
     "output_type": "stream",
     "text": [
      "b'This is bytes'\n"
     ]
    }
   ],
   "source": [
    "byte_data = b'This is bytes'\n",
    "print(byte_data) "
   ]
  },
  {
   "cell_type": "code",
   "execution_count": 20,
   "id": "24fe6293-bc97-4641-a258-e61b27f2265f",
   "metadata": {},
   "outputs": [
    {
     "name": "stdout",
     "output_type": "stream",
     "text": [
      "b'Hello World'\n"
     ]
    }
   ],
   "source": [
    "#string to bytes\n",
    "string = \"Hello World\"\n",
    "byte_data = string.encode(\"utf-8\")\n",
    "print(byte_data)"
   ]
  },
  {
   "cell_type": "code",
   "execution_count": 21,
   "id": "3929dff8-980b-4b10-ab8a-cfb45e45d557",
   "metadata": {},
   "outputs": [
    {
     "name": "stdout",
     "output_type": "stream",
     "text": [
      "Hello World\n"
     ]
    }
   ],
   "source": [
    "#bytes to string\n",
    "string = byte_data.decode(\"utf-8\")\n",
    "print(string)"
   ]
  },
  {
   "cell_type": "markdown",
   "id": "634b8ad0-d683-4c9b-8ac4-b88319a04483",
   "metadata": {},
   "source": [
    "##### References: \n",
    "\n",
    "https://docs.python.org/3/library/functions.html"
   ]
  }
 ],
 "metadata": {
  "kernelspec": {
   "display_name": "Python 3 (ipykernel)",
   "language": "python",
   "name": "python3"
  },
  "language_info": {
   "codemirror_mode": {
    "name": "ipython",
    "version": 3
   },
   "file_extension": ".py",
   "mimetype": "text/x-python",
   "name": "python",
   "nbconvert_exporter": "python",
   "pygments_lexer": "ipython3",
   "version": "3.11.7"
  }
 },
 "nbformat": 4,
 "nbformat_minor": 5
}
