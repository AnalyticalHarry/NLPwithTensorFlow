{
 "cells": [
  {
   "cell_type": "markdown",
   "id": "d0146b98-bdff-4bba-aa63-ae766b8b3445",
   "metadata": {},
   "source": [
    "## String Manipulation I "
   ]
  },
  {
   "cell_type": "markdown",
   "id": "c15a0258-563e-40c2-9d04-8f01f793de04",
   "metadata": {},
   "source": [
    "#### Hemant Thapa "
   ]
  },
  {
   "cell_type": "code",
   "execution_count": 1,
   "id": "88c7b4a6-99be-4a46-a8bf-fd35319490d5",
   "metadata": {},
   "outputs": [],
   "source": [
    "import string"
   ]
  },
  {
   "cell_type": "markdown",
   "id": "4f8d7319-6ccf-4a0c-824c-ecd15ee449c6",
   "metadata": {},
   "source": [
    "#### 1. String Concatenation "
   ]
  },
  {
   "cell_type": "code",
   "execution_count": 2,
   "id": "ea992aa2-1113-4782-8d56-f0d0ec700971",
   "metadata": {},
   "outputs": [
    {
     "name": "stdout",
     "output_type": "stream",
     "text": [
      "Hello World\n"
     ]
    }
   ],
   "source": [
    "string_one = \"Hello\"\n",
    "string_two = \"World\"\n",
    "combine_string = string_one + \" \" +string_two\n",
    "print(combine_string)"
   ]
  },
  {
   "cell_type": "markdown",
   "id": "746940c7-1c36-4e6e-9047-13b305495961",
   "metadata": {},
   "source": [
    "#### 2. Slicing "
   ]
  },
  {
   "cell_type": "code",
   "execution_count": 3,
   "id": "64c85b52-fd61-4b34-a7a4-9468440fd43e",
   "metadata": {},
   "outputs": [
    {
     "name": "stdout",
     "output_type": "stream",
     "text": [
      "World\n"
     ]
    }
   ],
   "source": [
    "sub_string = combine_string[6:11]\n",
    "print(sub_string)"
   ]
  },
  {
   "cell_type": "markdown",
   "id": "4e87a911-ef78-4f5a-8512-960e1a30030d",
   "metadata": {},
   "source": [
    "#### 3. Upper and Lower Case "
   ]
  },
  {
   "cell_type": "code",
   "execution_count": 4,
   "id": "dae0b224-af53-4dab-8d08-45f39a7f1097",
   "metadata": {},
   "outputs": [
    {
     "name": "stdout",
     "output_type": "stream",
     "text": [
      "HELLO WORLD\n"
     ]
    }
   ],
   "source": [
    "upper_case = combine_string.upper()\n",
    "print(upper_case)"
   ]
  },
  {
   "cell_type": "code",
   "execution_count": 5,
   "id": "01aa1d77-18aa-4b31-9fcf-d1f13a3d3c79",
   "metadata": {},
   "outputs": [
    {
     "name": "stdout",
     "output_type": "stream",
     "text": [
      "hello world\n"
     ]
    }
   ],
   "source": [
    "lower_case = combine_string.lower()\n",
    "print(lower_case)"
   ]
  },
  {
   "cell_type": "markdown",
   "id": "c0db8c0d-d3a7-43b4-85a0-9da1cf4ea2a6",
   "metadata": {},
   "source": [
    "#### 4. Finding and Replacing "
   ]
  },
  {
   "cell_type": "code",
   "execution_count": 6,
   "id": "748cc37b-3437-4a64-8367-24c0353e31df",
   "metadata": {},
   "outputs": [
    {
     "name": "stdout",
     "output_type": "stream",
     "text": [
      "-1\n"
     ]
    }
   ],
   "source": [
    "#finding index of word\n",
    "string = \"Hello my name is Hemant Thapa\"\n",
    "index = string.find(\"Thape\")\n",
    "print(index)"
   ]
  },
  {
   "cell_type": "code",
   "execution_count": 7,
   "id": "f6cb8226-ae24-4879-9bd2-3700110f382a",
   "metadata": {},
   "outputs": [
    {
     "name": "stdout",
     "output_type": "stream",
     "text": [
      "Hello my name is Harry Thapa\n"
     ]
    }
   ],
   "source": [
    "#replace word\n",
    "word_replace = \"Harry\"\n",
    "string = string.replace(\"Hemant\", word_replace)\n",
    "print(string)"
   ]
  },
  {
   "cell_type": "markdown",
   "id": "c2e81309-e58c-4ee1-9ad5-406e47fd8032",
   "metadata": {},
   "source": [
    "#### 5. Splitting and Joining  "
   ]
  },
  {
   "cell_type": "code",
   "execution_count": 8,
   "id": "03157252-bbe7-4d22-aa3f-82ee8fb67db7",
   "metadata": {},
   "outputs": [
    {
     "name": "stdout",
     "output_type": "stream",
     "text": [
      "['Hello', 'my', 'name', 'is', 'Harry', 'Thapa']\n"
     ]
    }
   ],
   "source": [
    "#creating string into list\n",
    "list_string = string.split()\n",
    "print(list_string)"
   ]
  },
  {
   "cell_type": "code",
   "execution_count": 9,
   "id": "a45ac984-66b7-4052-9671-53409cb95cd0",
   "metadata": {},
   "outputs": [
    {
     "name": "stdout",
     "output_type": "stream",
     "text": [
      "['Hello', 'my', 'name', 'is', 'Harry', 'Thapa']\n"
     ]
    }
   ],
   "source": [
    "#Joining string from list\n",
    "words = list_string\n",
    "print(words)"
   ]
  },
  {
   "cell_type": "code",
   "execution_count": 10,
   "id": "69dbb17c-75ec-496d-b722-40947aea6d01",
   "metadata": {},
   "outputs": [
    {
     "name": "stdout",
     "output_type": "stream",
     "text": [
      "Hello my name is Harry Thapa\n"
     ]
    }
   ],
   "source": [
    "#joining words\n",
    "join_words = \" \".join(words)\n",
    "print(join_words)"
   ]
  },
  {
   "cell_type": "markdown",
   "id": "69799569-93b0-4612-b488-f8cc1b1e3322",
   "metadata": {},
   "source": [
    "#### 6. Strip "
   ]
  },
  {
   "cell_type": "code",
   "execution_count": 11,
   "id": "a4195ad1-6402-44d9-86ce-c7635b9ed89d",
   "metadata": {},
   "outputs": [],
   "source": [
    "string = \" Hello Word \""
   ]
  },
  {
   "cell_type": "code",
   "execution_count": 12,
   "id": "81888cb4-9588-45a3-a58e-e6095236da0f",
   "metadata": {},
   "outputs": [
    {
     "name": "stdout",
     "output_type": "stream",
     "text": [
      "0  \n",
      "1 H\n",
      "2 e\n",
      "3 l\n",
      "4 l\n",
      "5 o\n",
      "6  \n",
      "7 W\n",
      "8 o\n",
      "9 r\n",
      "10 d\n",
      "11  \n"
     ]
    }
   ],
   "source": [
    "for i, j in enumerate(string):\n",
    "    print(i,j)"
   ]
  },
  {
   "cell_type": "code",
   "execution_count": 13,
   "id": "eb148246-d587-4682-bb33-8c2bbacb49b9",
   "metadata": {},
   "outputs": [
    {
     "name": "stdout",
     "output_type": "stream",
     "text": [
      "Hello Word\n"
     ]
    }
   ],
   "source": [
    "string_strip = string.strip()\n",
    "print(string_strip)"
   ]
  },
  {
   "cell_type": "code",
   "execution_count": 14,
   "id": "6f2557b6-5d0a-48ba-8487-794df0c0f214",
   "metadata": {},
   "outputs": [
    {
     "name": "stdout",
     "output_type": "stream",
     "text": [
      "0 H\n",
      "1 e\n",
      "2 l\n",
      "3 l\n",
      "4 o\n",
      "5  \n",
      "6 W\n",
      "7 o\n",
      "8 r\n",
      "9 d\n"
     ]
    }
   ],
   "source": [
    "for i, j in enumerate(string_strip):\n",
    "    print(i,j)"
   ]
  },
  {
   "cell_type": "markdown",
   "id": "77a327a5-a0de-4582-a299-299154894f8f",
   "metadata": {},
   "source": [
    "#### 7. Formatting "
   ]
  },
  {
   "cell_type": "code",
   "execution_count": 15,
   "id": "7b7f983f-4a93-4b9b-bd4e-789753a174f7",
   "metadata": {},
   "outputs": [
    {
     "name": "stdout",
     "output_type": "stream",
     "text": [
      "My name is Hemant and I am 25 year old.\n"
     ]
    }
   ],
   "source": [
    "name = \"Hemant\"\n",
    "age = 25\n",
    "sentence = \"My name is {} and I am {} year old.\".format(name, age)\n",
    "print(sentence)"
   ]
  },
  {
   "cell_type": "code",
   "execution_count": 16,
   "id": "d7ccb844-d84c-4c15-9208-d9a60fcda7bc",
   "metadata": {},
   "outputs": [
    {
     "data": {
      "text/plain": [
       "'My name is Hemant and I am 25 year old.'"
      ]
     },
     "execution_count": 16,
     "metadata": {},
     "output_type": "execute_result"
    }
   ],
   "source": [
    "f\"My name is {name} and I am {age} year old.\""
   ]
  },
  {
   "cell_type": "markdown",
   "id": "e215492e-c58c-42fb-bb04-3fa0cdf634b8",
   "metadata": {},
   "source": [
    "#### 8. Startswith and Endswith "
   ]
  },
  {
   "cell_type": "code",
   "execution_count": 17,
   "id": "18ccd9eb-d0ab-40be-84da-f4faa83f9dd5",
   "metadata": {},
   "outputs": [],
   "source": [
    "string = \"Hello World\"\n",
    "starts_with_hello = string.startswith(\"Hello\")\n",
    "ends_with_world = string.endswith(\"World\")"
   ]
  },
  {
   "cell_type": "code",
   "execution_count": 18,
   "id": "57cfadab-d6ae-4ac3-9cbb-7426c160390c",
   "metadata": {},
   "outputs": [
    {
     "name": "stdout",
     "output_type": "stream",
     "text": [
      "True\n",
      "True\n"
     ]
    }
   ],
   "source": [
    "print(starts_with_hello)\n",
    "print(ends_with_world)"
   ]
  },
  {
   "cell_type": "code",
   "execution_count": 19,
   "id": "5f12e423-11c8-4e12-9fd9-06227547113c",
   "metadata": {},
   "outputs": [],
   "source": [
    "digit = \"1234\"\n",
    "alpha = \"abcd\"\n",
    "alpha_digit = \"1234abcd\""
   ]
  },
  {
   "cell_type": "code",
   "execution_count": 20,
   "id": "1ba18302-e681-4476-856c-5565c516079b",
   "metadata": {},
   "outputs": [
    {
     "name": "stdout",
     "output_type": "stream",
     "text": [
      "True\n",
      "True\n",
      "True\n"
     ]
    }
   ],
   "source": [
    "print(digit.isdigit())\n",
    "print(alpha.isalpha())\n",
    "print(alpha_digit.isalnum())"
   ]
  },
  {
   "cell_type": "markdown",
   "id": "1a4aead4-0c99-4b2a-bef1-ce711e0b94c0",
   "metadata": {},
   "source": [
    "#### References: \n",
    "\n",
    "https://docs.python.org/3/library/functions.html"
   ]
  }
 ],
 "metadata": {
  "kernelspec": {
   "display_name": "Python 3 (ipykernel)",
   "language": "python",
   "name": "python3"
  },
  "language_info": {
   "codemirror_mode": {
    "name": "ipython",
    "version": 3
   },
   "file_extension": ".py",
   "mimetype": "text/x-python",
   "name": "python",
   "nbconvert_exporter": "python",
   "pygments_lexer": "ipython3",
   "version": "3.11.7"
  }
 },
 "nbformat": 4,
 "nbformat_minor": 5
}
