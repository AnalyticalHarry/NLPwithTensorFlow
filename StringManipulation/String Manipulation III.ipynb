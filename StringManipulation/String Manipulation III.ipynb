{
 "cells": [
  {
   "cell_type": "markdown",
   "id": "9c13a1e1-dc46-4ed4-a1fd-156ade054ce2",
   "metadata": {},
   "source": [
    "## String Manipulation III"
   ]
  },
  {
   "cell_type": "markdown",
   "id": "a3ccaec3-e23a-44b3-888f-2a663d7de42b",
   "metadata": {},
   "source": [
    "##### Hemant Thapa "
   ]
  },
  {
   "cell_type": "markdown",
   "id": "f4bd85b3-4db4-4713-8bee-8d37aae40547",
   "metadata": {},
   "source": [
    "#### Parsing and Generating JSON"
   ]
  },
  {
   "cell_type": "markdown",
   "id": "43396101-ddcd-4d67-84f0-565984b04dcd",
   "metadata": {},
   "source": [
    "Working with JSON data is a common task that involves string manipulation, especially when dealing with web APIs or data interchange formats."
   ]
  },
  {
   "cell_type": "code",
   "execution_count": 1,
   "id": "53e311c4-7014-4434-af61-fc98a60883de",
   "metadata": {},
   "outputs": [],
   "source": [
    "import re\n",
    "import os\n",
    "import json\n",
    "import string\n",
    "from jsonschema import validate\n",
    "from jsonschema.exceptions import ValidationError"
   ]
  },
  {
   "cell_type": "markdown",
   "id": "a2cf5283-9f76-41f1-a442-a2cee7f4a4b3",
   "metadata": {},
   "source": [
    "##### 1.  Parsing JSON Strings"
   ]
  },
  {
   "cell_type": "code",
   "execution_count": 2,
   "id": "239bc769-a537-4dad-8b9b-8604798e180d",
   "metadata": {},
   "outputs": [],
   "source": [
    "customer_details = '{\"first_name\": \"Hemant\", \"last_name\": \"Thapa\", \"age\": 25, \"city\": \"Glasgow\"}'"
   ]
  },
  {
   "cell_type": "code",
   "execution_count": 3,
   "id": "eefd2158-6b3c-4824-ab7d-7473c6e912cd",
   "metadata": {},
   "outputs": [
    {
     "name": "stdout",
     "output_type": "stream",
     "text": [
      "{'first_name': 'Hemant', 'last_name': 'Thapa', 'age': 25, 'city': 'Glasgow'}\n"
     ]
    }
   ],
   "source": [
    "parsed_json = json.loads(customer_details)\n",
    "print(parsed_json)"
   ]
  },
  {
   "cell_type": "code",
   "execution_count": 4,
   "id": "4e3d0a02-0940-4340-b105-5d461e530470",
   "metadata": {},
   "outputs": [
    {
     "data": {
      "text/plain": [
       "('Hemant', 'Thapa')"
      ]
     },
     "execution_count": 4,
     "metadata": {},
     "output_type": "execute_result"
    }
   ],
   "source": [
    "parsed_json[\"first_name\"], parsed_json[\"last_name\"]"
   ]
  },
  {
   "cell_type": "code",
   "execution_count": 5,
   "id": "872cf84e-e41d-4522-94b1-f9a69d9456c9",
   "metadata": {},
   "outputs": [
    {
     "data": {
      "text/plain": [
       "('H', 'T')"
      ]
     },
     "execution_count": 5,
     "metadata": {},
     "output_type": "execute_result"
    }
   ],
   "source": [
    "parsed_json[\"first_name\"][0], parsed_json[\"last_name\"][0]"
   ]
  },
  {
   "cell_type": "markdown",
   "id": "2878f05b-8f7e-4fb3-961b-92ce92089041",
   "metadata": {},
   "source": [
    "##### 2. Generating JSON Strings"
   ]
  },
  {
   "cell_type": "code",
   "execution_count": 6,
   "id": "d2fb3680-91d6-4e2c-9913-ed7c64fa5872",
   "metadata": {
    "scrolled": true
   },
   "outputs": [],
   "source": [
    "customer_details = {\"first_name\": \"Hemant\", \n",
    "                    \"last_name\": \"Thapa\",\n",
    "                    \"age\": 25, \n",
    "                    \"city\": \"Glasgow\"}"
   ]
  },
  {
   "cell_type": "code",
   "execution_count": 7,
   "id": "519cfac2-8dde-4ade-b6e3-6eb631b18dcb",
   "metadata": {},
   "outputs": [],
   "source": [
    "json_string = json.dumps(customer_details)"
   ]
  },
  {
   "cell_type": "code",
   "execution_count": 8,
   "id": "a18c3bf5-ed56-4c23-96cb-dd926978da97",
   "metadata": {},
   "outputs": [
    {
     "name": "stdout",
     "output_type": "stream",
     "text": [
      "{\"first_name\": \"Hemant\", \"last_name\": \"Thapa\", \"age\": 25, \"city\": \"Glasgow\"}\n"
     ]
    }
   ],
   "source": [
    "print(json_string)"
   ]
  },
  {
   "cell_type": "markdown",
   "id": "c15e86ec-9e82-4b46-8831-4602b5ee76c5",
   "metadata": {},
   "source": [
    "##### 3. Pretty Printing JSON"
   ]
  },
  {
   "cell_type": "markdown",
   "id": "a28cbedf-5543-4e06-8137-776ecfe04641",
   "metadata": {},
   "source": [
    "When working with JSON data, it's often useful to print it out in a readable format, especially when debugging or presenting data to users."
   ]
  },
  {
   "cell_type": "code",
   "execution_count": 9,
   "id": "2641e8fb-4a21-40e8-b824-d84074358180",
   "metadata": {},
   "outputs": [],
   "source": [
    "customer_details = {\"first_name\": \"Hemant\", \n",
    "                    \"last_name\": \"Thapa\",\n",
    "                    \"age\": 25, \n",
    "                    \"city\": \"Glasgow\",\n",
    "                    \"languages\": [\"English\", \"Spanish\", \"Hindi\"],\n",
    "                    \"programming languages\":[\"Python\", \"JavaScript\", \"C++\", \"R\"]\n",
    "                   }"
   ]
  },
  {
   "cell_type": "code",
   "execution_count": 10,
   "id": "1aafb4b2-0aa8-46e6-b346-27915b1e5cbd",
   "metadata": {},
   "outputs": [
    {
     "name": "stdout",
     "output_type": "stream",
     "text": [
      "- First Name: Hemant\n",
      "- Last Name: Thapa\n",
      "- Age: 25\n",
      "- City: Glasgow\n",
      "- Languages:\n",
      "  - English\n",
      "  - Spanish\n",
      "  - Hindi\n",
      "- Programming Languages:\n",
      "  - Python\n",
      "  - JavaScript\n",
      "  - C++\n",
      "  - R\n"
     ]
    }
   ],
   "source": [
    "def details(details):\n",
    "    print(f\"- First Name: {details['first_name']}\")\n",
    "    print(f\"- Last Name: {details['last_name']}\")\n",
    "    print(f\"- Age: {details['age']}\")\n",
    "    print(f\"- City: {details['city']}\")\n",
    "    print(\"- Languages:\")\n",
    "    for i in details['languages']:\n",
    "        print(f\"  - {i}\")\n",
    "    print(\"- Programming Languages:\")\n",
    "    for j in details['programming languages']:\n",
    "        print(f\"  - {j}\")\n",
    "\n",
    "details(customer_details)"
   ]
  },
  {
   "cell_type": "markdown",
   "id": "369b4643-0af4-4aab-9f17-9cc71d811758",
   "metadata": {},
   "source": [
    "##### 4. Writing JSON to a File"
   ]
  },
  {
   "cell_type": "markdown",
   "id": "9e936574-477e-40a1-bbf7-e5d9aab38016",
   "metadata": {},
   "source": [
    "Reading and writing JSON data from and to files is a common task, especially for configuration files or data storage."
   ]
  },
  {
   "cell_type": "code",
   "execution_count": 11,
   "id": "e07ff6e9-19b8-4b66-aa5c-98cbbbdf87c7",
   "metadata": {},
   "outputs": [],
   "source": [
    "#writing\n",
    "with open('customer.json', 'w') as f:\n",
    "    json.dump(customer_details, f, indent=4)"
   ]
  },
  {
   "cell_type": "code",
   "execution_count": 12,
   "id": "74bccd45-2bc6-4a90-a538-c2dd9d13b0bd",
   "metadata": {},
   "outputs": [],
   "source": [
    "#reading\n",
    "with open('customer.json', 'r') as f:\n",
    "    data = json.load(f)"
   ]
  },
  {
   "cell_type": "code",
   "execution_count": 13,
   "id": "f6e62c9d-2b0e-4a80-85b6-fb3925502af6",
   "metadata": {},
   "outputs": [
    {
     "data": {
      "text/plain": [
       "{'first_name': 'Hemant',\n",
       " 'last_name': 'Thapa',\n",
       " 'age': 25,\n",
       " 'city': 'Glasgow',\n",
       " 'languages': ['English', 'Spanish', 'Hindi'],\n",
       " 'programming languages': ['Python', 'JavaScript', 'C++', 'R']}"
      ]
     },
     "execution_count": 13,
     "metadata": {},
     "output_type": "execute_result"
    }
   ],
   "source": [
    "data"
   ]
  },
  {
   "cell_type": "markdown",
   "id": "b967daff-6f90-4380-8f2f-0fcc89486452",
   "metadata": {},
   "source": [
    "##### 5. Filtering and Transforming"
   ]
  },
  {
   "cell_type": "markdown",
   "id": "3423bf9c-51b8-418a-b461-1248a73475df",
   "metadata": {},
   "source": [
    "We might need to filter or transform JSON data, for example, to remove sensitive information before sending it to the frontend or to transform it for compatibility with another system."
   ]
  },
  {
   "cell_type": "code",
   "execution_count": 14,
   "id": "8139f33c-8656-4034-bb7a-2005ed9888a3",
   "metadata": {},
   "outputs": [],
   "source": [
    "customer_list = [\n",
    "    {\n",
    "        \"name\": \"Hemant\",\n",
    "        \"age\": 25,\n",
    "        #sensitive information\n",
    "        \"password\": \"anothersecretpassword\",  \n",
    "        \"city\": \"Glasgow\"\n",
    "    },\n",
    "    {\n",
    "        \"name\": \"Annie\",\n",
    "        \"age\": 23,\n",
    "        #sensitive information\n",
    "        \"password\": \"mysecretpassword\",  \n",
    "        \"city\": \"New York\"\n",
    "    }\n",
    "]"
   ]
  },
  {
   "cell_type": "code",
   "execution_count": 15,
   "id": "69a9eb51-a1fb-4d47-9618-f42f3091150e",
   "metadata": {},
   "outputs": [],
   "source": [
    "def customers_data(customers):\n",
    "    filtered_customers = []\n",
    "    for i in customers:\n",
    "        # sensitive information and transform data for each customer\n",
    "        filtered = {key: value for key, value in i.items() if key != \"password\"}\n",
    "        # transform age to string with text\n",
    "        filtered[\"age\"] = str(filtered[\"age\"]) + \" years old\" \n",
    "        filtered_customers.append(filtered)\n",
    "    return filtered_customers"
   ]
  },
  {
   "cell_type": "code",
   "execution_count": 16,
   "id": "fbfd9fb4-9329-40eb-b797-6619ee4fafcd",
   "metadata": {},
   "outputs": [
    {
     "name": "stdout",
     "output_type": "stream",
     "text": [
      "[\n",
      "    {\n",
      "        \"name\": \"Hemant\",\n",
      "        \"age\": \"25 years old\",\n",
      "        \"city\": \"Glasgow\"\n",
      "    },\n",
      "    {\n",
      "        \"name\": \"Annie\",\n",
      "        \"age\": \"23 years old\",\n",
      "        \"city\": \"New York\"\n",
      "    }\n",
      "]\n"
     ]
    }
   ],
   "source": [
    "filtered_customers = customers_data(customer_list)\n",
    "print(json.dumps(filtered_customers, indent=4))"
   ]
  },
  {
   "cell_type": "markdown",
   "id": "86ba4c72-4cd2-4e59-96c3-c55a5ee29246",
   "metadata": {},
   "source": [
    "##### 6. Merging JSON Objects"
   ]
  },
  {
   "cell_type": "markdown",
   "id": "e08f3310-4125-4874-be3e-e0a9cda6b509",
   "metadata": {},
   "source": [
    "Combining multiple JSON objects into a single object can be useful in various scenarios, like aggregating configuration settings or merging responses from different API calls."
   ]
  },
  {
   "cell_type": "code",
   "execution_count": 17,
   "id": "56576935-d49b-4c43-82a5-7adea50f659a",
   "metadata": {},
   "outputs": [],
   "source": [
    "data1 = {\"name\": \"Harry\", \"age\": 30}\n",
    "data2 = {\"city\": \"Glasgow\", \"hasPets\": False}"
   ]
  },
  {
   "cell_type": "code",
   "execution_count": 18,
   "id": "01d7a152-e46d-4479-8835-c843794e7b67",
   "metadata": {},
   "outputs": [],
   "source": [
    "merged_data = {**data1, **data2}"
   ]
  },
  {
   "cell_type": "code",
   "execution_count": 19,
   "id": "37284165-db08-45ff-98db-ba4f9f9ea1c6",
   "metadata": {},
   "outputs": [
    {
     "name": "stdout",
     "output_type": "stream",
     "text": [
      "{\n",
      "    \"name\": \"Harry\",\n",
      "    \"age\": 30,\n",
      "    \"city\": \"Glasgow\",\n",
      "    \"hasPets\": false\n",
      "}\n"
     ]
    }
   ],
   "source": [
    "print(json.dumps(merged_data, indent=4))"
   ]
  },
  {
   "cell_type": "markdown",
   "id": "573d1b0b-5c57-449d-84dd-a0ebc9ba23ad",
   "metadata": {},
   "source": [
    "##### 7. Handling Complex Nested Structures"
   ]
  },
  {
   "cell_type": "code",
   "execution_count": 20,
   "id": "3f2598e0-fd62-4995-9b68-239a880dc8fe",
   "metadata": {},
   "outputs": [],
   "source": [
    "data = {\n",
    "    \"name\": \"Harry\",\n",
    "    \"details\": {\n",
    "        \"age\": 25,\n",
    "        \"address\": {\n",
    "            \"city\": \"Glasgow, Scotland\",\n",
    "            \"country\": \"United Kingdom\"\n",
    "        }\n",
    "    }\n",
    "}"
   ]
  },
  {
   "cell_type": "code",
   "execution_count": 21,
   "id": "241be107-6dd3-4acb-9589-451e120c4715",
   "metadata": {},
   "outputs": [
    {
     "name": "stdout",
     "output_type": "stream",
     "text": [
      "Glasgow, Scotland\n"
     ]
    }
   ],
   "source": [
    "print(data[\"details\"][\"address\"][\"city\"])  "
   ]
  },
  {
   "cell_type": "code",
   "execution_count": 22,
   "id": "c01af76b-f935-4c49-9563-cd125e2a8236",
   "metadata": {},
   "outputs": [],
   "source": [
    "data[\"details\"][\"address\"][\"city\"] = \"London\""
   ]
  },
  {
   "cell_type": "code",
   "execution_count": 23,
   "id": "b14a183a-3342-4156-a903-6df427787a3b",
   "metadata": {},
   "outputs": [
    {
     "name": "stdout",
     "output_type": "stream",
     "text": [
      "{\n",
      "    \"name\": \"Harry\",\n",
      "    \"details\": {\n",
      "        \"age\": 25,\n",
      "        \"address\": {\n",
      "            \"city\": \"London\",\n",
      "            \"country\": \"United Kingdom\"\n",
      "        }\n",
      "    }\n",
      "}\n"
     ]
    }
   ],
   "source": [
    "print(json.dumps(data, indent=4))"
   ]
  },
  {
   "cell_type": "code",
   "execution_count": 24,
   "id": "e7ba44a6-6992-4acf-87d3-af557b02a275",
   "metadata": {},
   "outputs": [],
   "source": [
    "data = {\n",
    "    \"glossary\": {\n",
    "        \"title\": \"example glossary\",\n",
    "\t\t\"GlossDiv\": {\n",
    "            \"title\": \"S\",\n",
    "\t\t\t\"GlossList\": {\n",
    "                \"GlossEntry\": {\n",
    "                    \"ID\": \"SGML\",\n",
    "\t\t\t\t\t\"SortAs\": \"SGML\",\n",
    "\t\t\t\t\t\"GlossTerm\": \"Standard Generalized Markup Language\",\n",
    "\t\t\t\t\t\"Acronym\": \"SGML\",\n",
    "\t\t\t\t\t\"Abbrev\": \"ISO 8879:1986\",\n",
    "\t\t\t\t\t\"GlossDef\": {\n",
    "                        \"para\": \"A meta-markup language, used to create markup languages such as DocBook.\",\n",
    "\t\t\t\t\t\t\"GlossSeeAlso\": [\"GML\", \"XML\"]\n",
    "                    },\n",
    "\t\t\t\t\t\"GlossSee\": \"markup\"\n",
    "                }\n",
    "            }\n",
    "        }\n",
    "    }\n",
    "}"
   ]
  },
  {
   "cell_type": "code",
   "execution_count": 25,
   "id": "7150977e-f88a-4594-9a7d-781249367320",
   "metadata": {},
   "outputs": [],
   "source": [
    "data['glossary']['GlossDiv']['title'] = \"A\""
   ]
  },
  {
   "cell_type": "code",
   "execution_count": 26,
   "id": "6ef83cf9-4d0d-4f2a-be31-f8b08dae40a7",
   "metadata": {},
   "outputs": [
    {
     "data": {
      "text/plain": [
       "{'glossary': {'title': 'example glossary',\n",
       "  'GlossDiv': {'title': 'A',\n",
       "   'GlossList': {'GlossEntry': {'ID': 'SGML',\n",
       "     'SortAs': 'SGML',\n",
       "     'GlossTerm': 'Standard Generalized Markup Language',\n",
       "     'Acronym': 'SGML',\n",
       "     'Abbrev': 'ISO 8879:1986',\n",
       "     'GlossDef': {'para': 'A meta-markup language, used to create markup languages such as DocBook.',\n",
       "      'GlossSeeAlso': ['GML', 'XML']},\n",
       "     'GlossSee': 'markup'}}}}}"
      ]
     },
     "execution_count": 26,
     "metadata": {},
     "output_type": "execute_result"
    }
   ],
   "source": [
    "data"
   ]
  },
  {
   "cell_type": "markdown",
   "id": "a622caf1-8eda-4de3-845c-6bdd2390507a",
   "metadata": {},
   "source": [
    "##### 8. Deep Merging JSON Objects"
   ]
  },
  {
   "cell_type": "markdown",
   "id": "d6ad2293-e60f-4ca9-909a-70978bf87615",
   "metadata": {},
   "source": [
    "Merging JSON objects deeply means combining them not just at the top level but recursively, ensuring that nested objects are also merged appropriately. This can be useful when you need to combine configurations, user settings, or any nested data structures."
   ]
  },
  {
   "cell_type": "code",
   "execution_count": 27,
   "id": "5bb9a4c7-3f6b-4c2f-9844-63e65032cef2",
   "metadata": {},
   "outputs": [],
   "source": [
    "def deep_merge(source, destination):\n",
    "    for key, value in source.items():\n",
    "        if isinstance(value, dict):\n",
    "            # Get node or create one\n",
    "            node = destination.setdefault(key, {})\n",
    "            deep_merge(value, node)\n",
    "        else:\n",
    "            destination[key] = value\n",
    "    return destination"
   ]
  },
  {
   "cell_type": "code",
   "execution_count": 28,
   "id": "2b57c468-196d-4b06-9c20-2bb1060f397f",
   "metadata": {},
   "outputs": [],
   "source": [
    "json1 = {\"a\": {\"b\": 1, \"c\": 2}, \"d\": 3}\n",
    "json2 = {\"a\": {\"b\": 2, \"d\": 4}, \"e\": 5}"
   ]
  },
  {
   "cell_type": "code",
   "execution_count": 29,
   "id": "e0f34d16-eff9-45d1-b2b2-09dbeea48b0f",
   "metadata": {},
   "outputs": [
    {
     "name": "stdout",
     "output_type": "stream",
     "text": [
      "{'a': {'b': 2, 'c': 2, 'd': 4}, 'd': 3, 'e': 5}\n"
     ]
    }
   ],
   "source": [
    "merged_json = deep_merge(json2, json1)\n",
    "print(merged_json)"
   ]
  },
  {
   "cell_type": "markdown",
   "id": "2990c516-9b69-4801-b8b0-5380ee4b4d0b",
   "metadata": {},
   "source": [
    "##### 9. Schema Validation"
   ]
  },
  {
   "cell_type": "markdown",
   "id": "672acc26-4918-46ea-8f9b-3a10f9c213f2",
   "metadata": {},
   "source": [
    "Validating JSON against a predefined schema ensures that the data adheres to a specified structure and types, which is important for data integrity and reliability in applications."
   ]
  },
  {
   "cell_type": "code",
   "execution_count": 30,
   "id": "c21bb4f6-8735-4d44-97f2-3d53d405ac3b",
   "metadata": {},
   "outputs": [],
   "source": [
    "schema = {\n",
    "    \"type\": \"object\",\n",
    "    \"properties\": {\n",
    "        \"name\": {\"type\": \"string\"},\n",
    "        \"age\": {\"type\": \"number\"},\n",
    "        \"city\": {\"type\": \"string\"},\n",
    "    },\n",
    "    \"required\": [\"name\", \"age\", \"city\"]\n",
    "}"
   ]
  },
  {
   "cell_type": "code",
   "execution_count": 31,
   "id": "8f5d6cf0-11b5-44c3-b44d-18812553919c",
   "metadata": {},
   "outputs": [],
   "source": [
    "harry = {\"name\": \"Harry\", \"age\": 25, \"city\": \"Glasgow, United Kingdom\"}"
   ]
  },
  {
   "cell_type": "code",
   "execution_count": 32,
   "id": "fa952c0a-3a77-4b3f-9604-5a05cb68ddb6",
   "metadata": {},
   "outputs": [
    {
     "name": "stdout",
     "output_type": "stream",
     "text": [
      "JSON data is valid.\n"
     ]
    }
   ],
   "source": [
    "try:\n",
    "    validate(instance=harry, schema=schema)\n",
    "    print(\"JSON data is valid.\")\n",
    "except ValidationError as e:\n",
    "    print(\"JSON data is invalid.\", e)"
   ]
  },
  {
   "cell_type": "markdown",
   "id": "3d9bb4d8-1a3e-4e64-95b6-c6e871d696c3",
   "metadata": {},
   "source": [
    "##### 10. Filtering JSON Data"
   ]
  },
  {
   "cell_type": "markdown",
   "id": "48a3fa5b-8191-4026-8f4f-574d0fc20991",
   "metadata": {},
   "source": [
    "Filtering JSON data based on specific conditions can be done using list comprehensions or the filter() function for more complex conditions."
   ]
  },
  {
   "cell_type": "code",
   "execution_count": 33,
   "id": "3cef4f1e-c021-48d6-94be-3f39fc4953cd",
   "metadata": {},
   "outputs": [],
   "source": [
    "customers = [\n",
    "    {\"name\": \"Jane\", \"age\": 32},\n",
    "    {\"name\": \"Annie\", \"age\": 25},\n",
    "    {\"name\": \"Maria\", \"age\": 35}\n",
    "]"
   ]
  },
  {
   "cell_type": "code",
   "execution_count": 34,
   "id": "933cf2ee-ad74-4f33-ab12-19dea161346f",
   "metadata": {},
   "outputs": [
    {
     "name": "stdout",
     "output_type": "stream",
     "text": [
      "[\n",
      "    {\n",
      "        \"name\": \"Jane\",\n",
      "        \"age\": 32\n",
      "    },\n",
      "    {\n",
      "        \"name\": \"Maria\",\n",
      "        \"age\": 35\n",
      "    }\n",
      "]\n"
     ]
    }
   ],
   "source": [
    "older_than_30 = [customer for customer in customers if customer[\"age\"] > 30]\n",
    "print(json.dumps(older_than_30, indent=4))"
   ]
  },
  {
   "cell_type": "markdown",
   "id": "0d073854-022b-4f34-b681-9ffc2584ee35",
   "metadata": {},
   "source": [
    "##### 11. Updating JSON Data"
   ]
  },
  {
   "cell_type": "markdown",
   "id": "51a242bc-1ce8-4454-abec-ef08edfddcc4",
   "metadata": {},
   "source": [
    "Dynamically updating JSON data involves adding, modifying, or removing key-value pairs based on certain conditions."
   ]
  },
  {
   "cell_type": "markdown",
   "id": "039ea04c-a8ef-48bf-b92e-b0538a6e0b21",
   "metadata": {},
   "source": [
    "##### Adding New Key-Value Pairs"
   ]
  },
  {
   "cell_type": "code",
   "execution_count": 35,
   "id": "0bd1a9b6-a9a8-4679-955a-8a06864180f5",
   "metadata": {},
   "outputs": [
    {
     "name": "stdout",
     "output_type": "stream",
     "text": [
      "[\n",
      "    {\n",
      "        \"name\": \"Jane\",\n",
      "        \"age\": 32,\n",
      "        \"verified\": true\n",
      "    },\n",
      "    {\n",
      "        \"name\": \"Annie\",\n",
      "        \"age\": 25,\n",
      "        \"verified\": true\n",
      "    },\n",
      "    {\n",
      "        \"name\": \"Maria\",\n",
      "        \"age\": 35,\n",
      "        \"verified\": true\n",
      "    }\n",
      "]\n"
     ]
    }
   ],
   "source": [
    "for i in customers:\n",
    "    i[\"verified\"] = True\n",
    "print(json.dumps(customers, indent=4))"
   ]
  },
  {
   "cell_type": "markdown",
   "id": "02e2f024-7d95-4aca-9d64-f5ecec83c45b",
   "metadata": {},
   "source": [
    "##### Removing Key-Value Pairs"
   ]
  },
  {
   "cell_type": "code",
   "execution_count": 36,
   "id": "be6fa76b-6105-4d2a-9613-fd6fa7421303",
   "metadata": {},
   "outputs": [
    {
     "name": "stdout",
     "output_type": "stream",
     "text": [
      "[\n",
      "    {\n",
      "        \"name\": \"Jane\",\n",
      "        \"age\": 32\n",
      "    },\n",
      "    {\n",
      "        \"name\": \"Annie\",\n",
      "        \"age\": 25\n",
      "    },\n",
      "    {\n",
      "        \"name\": \"Maria\",\n",
      "        \"age\": 35\n",
      "    }\n",
      "]\n"
     ]
    }
   ],
   "source": [
    "for i in customers:\n",
    "    if \"verified\" in i:\n",
    "        del i[\"verified\"]\n",
    "        \n",
    "print(json.dumps(customers, indent=4))"
   ]
  },
  {
   "cell_type": "code",
   "execution_count": 37,
   "id": "5cf03fa1-121d-420b-95c6-af1fdf0e2236",
   "metadata": {},
   "outputs": [
    {
     "name": "stdout",
     "output_type": "stream",
     "text": [
      "[\n",
      "    {\n",
      "        \"name\": \"Jane\"\n",
      "    },\n",
      "    {\n",
      "        \"name\": \"Annie\"\n",
      "    },\n",
      "    {\n",
      "        \"name\": \"Maria\"\n",
      "    }\n",
      "]\n"
     ]
    }
   ],
   "source": [
    "for j in customers:\n",
    "    if \"age\" in j:\n",
    "        del j[\"age\"]\n",
    "\n",
    "print(json.dumps(customers, indent=4))"
   ]
  },
  {
   "cell_type": "markdown",
   "id": "76c32c89-84a8-4a1a-8b16-3d944a9eb0ec",
   "metadata": {},
   "source": [
    "##### References: \n",
    "\n",
    "https://docs.python.org/3/library/functions.html"
   ]
  }
 ],
 "metadata": {
  "kernelspec": {
   "display_name": "Python 3 (ipykernel)",
   "language": "python",
   "name": "python3"
  },
  "language_info": {
   "codemirror_mode": {
    "name": "ipython",
    "version": 3
   },
   "file_extension": ".py",
   "mimetype": "text/x-python",
   "name": "python",
   "nbconvert_exporter": "python",
   "pygments_lexer": "ipython3",
   "version": "3.11.7"
  }
 },
 "nbformat": 4,
 "nbformat_minor": 5
}
