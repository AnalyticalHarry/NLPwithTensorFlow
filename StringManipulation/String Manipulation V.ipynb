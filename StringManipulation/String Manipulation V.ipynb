{
 "cells": [
  {
   "cell_type": "markdown",
   "id": "ba744fb0-183d-4ae7-965c-03d95545816d",
   "metadata": {},
   "source": [
    "## String Manipulation V"
   ]
  },
  {
   "cell_type": "markdown",
   "id": "73a63234-38b1-4fcc-b0dd-187a7c80fb77",
   "metadata": {},
   "source": [
    "#### Hemant Thapa"
   ]
  },
  {
   "cell_type": "code",
   "execution_count": 1,
   "id": "42c99e0c-ab44-49ba-81d2-24f5f8cd28d1",
   "metadata": {},
   "outputs": [],
   "source": [
    "import json"
   ]
  },
  {
   "cell_type": "code",
   "execution_count": 2,
   "id": "f7726488-b7d3-4d27-b43b-08d8cec10e32",
   "metadata": {},
   "outputs": [],
   "source": [
    "#function to create json file\n",
    "def customer_to_json(user_id, first_name, last_name, email_address, address, phone_numbers, filename):\n",
    "    customer_data = [{\n",
    "        \"user_id\": user_id,\n",
    "        \"first_name\": first_name,\n",
    "        \"last_name\": last_name,\n",
    "        \"email_address\": email_address,\n",
    "        \"address\": address,\n",
    "        \"phone_numbers\": phone_numbers\n",
    "    }]\n",
    "    with open(filename, 'w') as file:\n",
    "        json.dump(customer_data, file, indent=4)\n",
    "    print(f\"Customer data saved to {filename}\")"
   ]
  },
  {
   "cell_type": "code",
   "execution_count": 3,
   "id": "e4c215da-576f-4adf-8921-dfd142529035",
   "metadata": {},
   "outputs": [
    {
     "name": "stdout",
     "output_type": "stream",
     "text": [
      "Customer data saved to customer.json\n"
     ]
    }
   ],
   "source": [
    "#customer details \n",
    "customer_to_json(\n",
    "    user_id=\"1\",\n",
    "    first_name=\"Harry\",\n",
    "    last_name=\"Thapa\",\n",
    "    email_address=\"hemantthapa1998@gmail.com\",\n",
    "    address=\"Glasgow, United Kingdom\",\n",
    "    phone_numbers=[\"123-456-7890\", \"987-654-3210\"],\n",
    "    filename=\"customer.json\"\n",
    ")"
   ]
  },
  {
   "cell_type": "code",
   "execution_count": 4,
   "id": "2283e8b8-6f5a-4917-a171-16c85c938fdd",
   "metadata": {},
   "outputs": [],
   "source": [
    "#functiont to update customer details\n",
    "def update_customer_to_json(user_id, first_name, last_name, email_address, address, phone_numbers, filename):\n",
    "    new_customer_data = {\n",
    "        \"user_id\": user_id,\n",
    "        \"first_name\": first_name,\n",
    "        \"last_name\": last_name,\n",
    "        \"email_address\": email_address,\n",
    "        \"address\": address,\n",
    "        \"phone_numbers\": phone_numbers\n",
    "    }\n",
    "    try:\n",
    "        #attempt to load existing data from the file\n",
    "        with open(filename, 'r') as file:\n",
    "            existing_data = json.load(file)\n",
    "    except (FileNotFoundError, json.JSONDecodeError):\n",
    "        #if file does not exist or is empty/invalid, start with an empty list\n",
    "        existing_data = []\n",
    "    \n",
    "    #if the customer already exists based on user_id\n",
    "    customer_index = None\n",
    "    for index, customer in enumerate(existing_data):\n",
    "        if customer.get(\"user_id\") == user_id:  \n",
    "            customer_index = index\n",
    "            break\n",
    "    \n",
    "    if customer_index is not None:\n",
    "        #update the existing customer data\n",
    "        existing_data[customer_index].update(new_customer_data)\n",
    "    else:\n",
    "        #append the new customer data to the list\n",
    "        existing_data.append(new_customer_data)\n",
    "    #write the updated list back to the file\n",
    "    with open(filename, 'w') as file:\n",
    "        json.dump(existing_data, file, indent=4)\n",
    "    print(f\"Customer data updated in {filename}\")"
   ]
  },
  {
   "cell_type": "code",
   "execution_count": 5,
   "id": "a5bf4572-a3a2-4684-a389-5895c76e2cb4",
   "metadata": {},
   "outputs": [
    {
     "name": "stdout",
     "output_type": "stream",
     "text": [
      "Customer data updated in customer.json\n"
     ]
    }
   ],
   "source": [
    "#update customer details\n",
    "update_customer_to_json(\n",
    "    user_id=\"2\",\n",
    "    first_name=\"Annie\",\n",
    "    last_name=\"McDonald\",\n",
    "    email_address=\"anniemcdonald@gmail.com\",\n",
    "    address=\"Ireland\",\n",
    "    phone_numbers=[\"7785687458\", \"7758241258\"],\n",
    "    filename=\"customer.json\"\n",
    ")"
   ]
  },
  {
   "cell_type": "code",
   "execution_count": 6,
   "id": "67e1c841-8e5c-4940-83e3-8c9fdcc8989d",
   "metadata": {},
   "outputs": [
    {
     "name": "stdout",
     "output_type": "stream",
     "text": [
      "Customer data updated in customer.json\n"
     ]
    }
   ],
   "source": [
    "#update customer details\n",
    "update_customer_to_json(\n",
    "    user_id=\"3\",\n",
    "    first_name=\"Annie\",\n",
    "    last_name=\"McDonald\",\n",
    "    email_address=\"anniemcdonald@gmail.com\",\n",
    "    address=\"Ireland\",\n",
    "    phone_numbers=[\"7785687458\", \"7758241258\"],\n",
    "    filename=\"customer.json\"\n",
    ")"
   ]
  },
  {
   "cell_type": "code",
   "execution_count": 7,
   "id": "c2377dfc-6939-4c47-a350-d10f61c3bd6b",
   "metadata": {},
   "outputs": [],
   "source": [
    "#function for reading json file\n",
    "def read_json(filename):\n",
    "    with open(filename, 'r') as file:\n",
    "        data = json.load(file)\n",
    "        return data"
   ]
  },
  {
   "cell_type": "code",
   "execution_count": 8,
   "id": "96f33d37-12b7-4842-9523-388927b9300e",
   "metadata": {},
   "outputs": [],
   "source": [
    "#calling function to read file\n",
    "filename = \"customer.json\"\n",
    "data = read_json(filename)"
   ]
  },
  {
   "cell_type": "code",
   "execution_count": 9,
   "id": "11e6bec6-38e8-44dd-b068-d6bbd0aff7df",
   "metadata": {},
   "outputs": [
    {
     "data": {
      "text/plain": [
       "[{'user_id': '1',\n",
       "  'first_name': 'Harry',\n",
       "  'last_name': 'Thapa',\n",
       "  'email_address': 'hemantthapa1998@gmail.com',\n",
       "  'address': 'Glasgow, United Kingdom',\n",
       "  'phone_numbers': ['123-456-7890', '987-654-3210']},\n",
       " {'user_id': '2',\n",
       "  'first_name': 'Annie',\n",
       "  'last_name': 'McDonald',\n",
       "  'email_address': 'anniemcdonald@gmail.com',\n",
       "  'address': 'Ireland',\n",
       "  'phone_numbers': ['7785687458', '7758241258']},\n",
       " {'user_id': '3',\n",
       "  'first_name': 'Annie',\n",
       "  'last_name': 'McDonald',\n",
       "  'email_address': 'anniemcdonald@gmail.com',\n",
       "  'address': 'Ireland',\n",
       "  'phone_numbers': ['7785687458', '7758241258']}]"
      ]
     },
     "execution_count": 9,
     "metadata": {},
     "output_type": "execute_result"
    }
   ],
   "source": [
    "data"
   ]
  },
  {
   "cell_type": "code",
   "execution_count": 10,
   "id": "77e601f5-764d-4178-b5a0-6b5fa3e22324",
   "metadata": {},
   "outputs": [],
   "source": [
    "#function to delete customer details\n",
    "def delete_customer_from_json(user_id, filename):\n",
    "    try:\n",
    "        #load the existing data from the file\n",
    "        with open(filename, 'r') as file:\n",
    "            customers = json.load(file)\n",
    "    except (FileNotFoundError, json.JSONDecodeError):\n",
    "        print(f\"File {filename} not found or is empty.\")\n",
    "        return\n",
    "        \n",
    "    #find the customer by user_id and remove them\n",
    "    customer_found = False\n",
    "    for i, customer in enumerate(customers):\n",
    "        if customer.get(\"user_id\") == user_id:\n",
    "            del customers[i]\n",
    "            customer_found = True\n",
    "            break\n",
    "            \n",
    "    if not customer_found:\n",
    "        print(f\"No customer found with user_id {user_id}.\")\n",
    "        return\n",
    "    \n",
    "    #write the updated data back to the file\n",
    "    with open(filename, 'w') as file:\n",
    "        json.dump(customers, file, indent=4)\n",
    "    print(f\"Customer with user_id {user_id} has been deleted from {filename}.\")"
   ]
  },
  {
   "cell_type": "code",
   "execution_count": 11,
   "id": "9b993da7-5f22-4c51-ab75-e23c5ceb6e11",
   "metadata": {},
   "outputs": [
    {
     "name": "stdout",
     "output_type": "stream",
     "text": [
      "Customer with user_id 3 has been deleted from customer.json.\n"
     ]
    }
   ],
   "source": [
    "delete_customer_from_json(\"3\", \"customer.json\")"
   ]
  },
  {
   "cell_type": "code",
   "execution_count": 12,
   "id": "eb578cbd-d9b4-44af-ace1-d0ce68e468a3",
   "metadata": {},
   "outputs": [],
   "source": [
    "filename = \"customer.json\"\n",
    "data = read_json(filename)"
   ]
  },
  {
   "cell_type": "code",
   "execution_count": 13,
   "id": "d4469220-8311-4072-a6d5-7dfbafa16394",
   "metadata": {},
   "outputs": [
    {
     "data": {
      "text/plain": [
       "[{'user_id': '1',\n",
       "  'first_name': 'Harry',\n",
       "  'last_name': 'Thapa',\n",
       "  'email_address': 'hemantthapa1998@gmail.com',\n",
       "  'address': 'Glasgow, United Kingdom',\n",
       "  'phone_numbers': ['123-456-7890', '987-654-3210']},\n",
       " {'user_id': '2',\n",
       "  'first_name': 'Annie',\n",
       "  'last_name': 'McDonald',\n",
       "  'email_address': 'anniemcdonald@gmail.com',\n",
       "  'address': 'Ireland',\n",
       "  'phone_numbers': ['7785687458', '7758241258']}]"
      ]
     },
     "execution_count": 13,
     "metadata": {},
     "output_type": "execute_result"
    }
   ],
   "source": [
    "data"
   ]
  },
  {
   "cell_type": "code",
   "execution_count": 14,
   "id": "86bcf5e7-14a6-4785-9803-59f2e40c0356",
   "metadata": {},
   "outputs": [],
   "source": [
    "#fucntion to edit customer details from json file\n",
    "def edit_customer_in_json(user_id, updates, filename):\n",
    "    try:\n",
    "        #load existing data from the file\n",
    "        with open(filename, 'r') as file:\n",
    "            customers = json.load(file)\n",
    "    except (FileNotFoundError, json.JSONDecodeError):\n",
    "        print(f\"File {filename} not found or is empty.\")\n",
    "        return\n",
    "    \n",
    "    #find the customer by user_id and update their details\n",
    "    customer_found = False\n",
    "    for customer in customers:\n",
    "        if customer.get(\"user_id\") == user_id:\n",
    "            #update customer details with provided updates\n",
    "            for key, value in updates.items():\n",
    "                customer[key] = value\n",
    "            customer_found = True\n",
    "            break\n",
    "            \n",
    "    if not customer_found:\n",
    "        print(f\"No customer found with user_id {user_id}.\")\n",
    "        return\n",
    "    #write the updated data back to the file\n",
    "    with open(filename, 'w') as file:\n",
    "        json.dump(customers, file, indent=4)\n",
    "    print(f\"Customer with user_id {user_id} has been updated in {filename}.\")"
   ]
  },
  {
   "cell_type": "code",
   "execution_count": 15,
   "id": "ad63d0c3-1130-41ef-8b01-dd3728193227",
   "metadata": {},
   "outputs": [
    {
     "name": "stdout",
     "output_type": "stream",
     "text": [
      "Customer with user_id 2 has been updated in customer.json.\n"
     ]
    }
   ],
   "source": [
    "edit_customer_in_json(\n",
    "    user_id=\"2\",\n",
    "    updates={\n",
    "        \"first_name\": \"Amy\",\n",
    "        \"last_name\": \"McDonald\",\n",
    "        \"email_address\": \"amymcdonald@gmail.com\",\n",
    "    },\n",
    "    filename=\"customer.json\"\n",
    ")"
   ]
  },
  {
   "cell_type": "code",
   "execution_count": 16,
   "id": "c7cf175a-056f-4b97-a260-92cc8765fab7",
   "metadata": {},
   "outputs": [],
   "source": [
    "filename = \"customer.json\"\n",
    "data = read_json(filename)"
   ]
  },
  {
   "cell_type": "code",
   "execution_count": 17,
   "id": "4aa0171f-0e41-43f4-ad42-5a8e1f6ec745",
   "metadata": {},
   "outputs": [
    {
     "data": {
      "text/plain": [
       "[{'user_id': '1',\n",
       "  'first_name': 'Harry',\n",
       "  'last_name': 'Thapa',\n",
       "  'email_address': 'hemantthapa1998@gmail.com',\n",
       "  'address': 'Glasgow, United Kingdom',\n",
       "  'phone_numbers': ['123-456-7890', '987-654-3210']},\n",
       " {'user_id': '2',\n",
       "  'first_name': 'Amy',\n",
       "  'last_name': 'McDonald',\n",
       "  'email_address': 'amymcdonald@gmail.com',\n",
       "  'address': 'Ireland',\n",
       "  'phone_numbers': ['7785687458', '7758241258']}]"
      ]
     },
     "execution_count": 17,
     "metadata": {},
     "output_type": "execute_result"
    }
   ],
   "source": [
    "data"
   ]
  },
  {
   "cell_type": "markdown",
   "id": "3f2ca892-fc46-4350-b340-920774389b0b",
   "metadata": {},
   "source": [
    "##### References:\n",
    "https://docs.python.org/3/library/functions.html"
   ]
  }
 ],
 "metadata": {
  "kernelspec": {
   "display_name": "Python 3 (ipykernel)",
   "language": "python",
   "name": "python3"
  },
  "language_info": {
   "codemirror_mode": {
    "name": "ipython",
    "version": 3
   },
   "file_extension": ".py",
   "mimetype": "text/x-python",
   "name": "python",
   "nbconvert_exporter": "python",
   "pygments_lexer": "ipython3",
   "version": "3.11.7"
  }
 },
 "nbformat": 4,
 "nbformat_minor": 5
}
