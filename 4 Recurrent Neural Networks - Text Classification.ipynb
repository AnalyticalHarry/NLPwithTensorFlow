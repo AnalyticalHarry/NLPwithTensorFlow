{
 "cells": [
  {
   "cell_type": "markdown",
   "id": "9074eb17-8c0c-4204-8edf-66c9ad955724",
   "metadata": {},
   "source": [
    "## Recurrent Neural Networks - Text Classification"
   ]
  },
  {
   "cell_type": "markdown",
   "id": "66e1c7b3-f663-457a-955c-4a4232bf3919",
   "metadata": {},
   "source": [
    "#### Hemant Thapa"
   ]
  },
  {
   "cell_type": "markdown",
   "id": "621c803d-e0af-4a1a-bdce-6b0a1ccd7e62",
   "metadata": {},
   "source": [
    "The primary objective of our project was to create a model capable of effectively categorizing text data into predefined classes. With a dataset comprising 20,000 training samples and 6,709 testing samples, we aimed to build a solution that could not only handle the scale of the data but also deliver accurate and reliable results.\n",
    "\n",
    "Our chosen architecture is a sequential framework, well-known for its effectiveness in NLP tasks, and incorporated Recurrent Neural Networks (RNNs) as a key component. The model's core components included an Embedding layer with 160,000 parameters, engineered to process and represent textual input efficiently. Following this, a GlobalAveragePooling1D layer was incorporated to reduce data dimensionality while preserving critical information. Two Dense layers were employed, with the first layer featuring 24 units and the second a single unit, collectively adding 433 parameters. These dense layers were responsible for interpreting the learned features and making the final prediction.\n",
    "\n",
    "To prepare the textual data for model training, we employed a Tokenizer class instance with a word limit of 10,000 words and an out-of-vocabulary token ```(<OOV>)```. This tokenizer was fitted to the training sentences, enabling us to convert both training and testing sentences into sequences of integers. To ensure consistent input size for the model, sequences were equalized in length, with a maximum limit of 100 words, using padding and truncation techniques."
   ]
  },
  {
   "cell_type": "markdown",
   "id": "3b62f22b-f8e6-4cbc-81d8-d086e4107982",
   "metadata": {},
   "source": [
    "##### Importing Libraries "
   ]
  },
  {
   "cell_type": "code",
   "execution_count": 1,
   "id": "c39e5d86-62df-487d-b40a-3ba61558490d",
   "metadata": {},
   "outputs": [],
   "source": [
    "import io\n",
    "import json\n",
    "import requests\n",
    "import numpy as np\n",
    "import tensorflow as tf\n",
    "import matplotlib.pyplot as plt"
   ]
  },
  {
   "cell_type": "code",
   "execution_count": 2,
   "id": "f2980f91-017d-4ceb-ad83-335aa0072740",
   "metadata": {},
   "outputs": [],
   "source": [
    "from tensorflow.keras.layers import Embedding, LSTM, Dense\n",
    "from tensorflow.keras.models import Sequential\n",
    "from tensorflow.keras.optimizers import Adam\n",
    "from tensorflow.keras.preprocessing.text import Tokenizer\n",
    "from tensorflow.keras.preprocessing.sequence import pad_sequences"
   ]
  },
  {
   "cell_type": "markdown",
   "id": "69438837-db81-4c46-beae-64e4d54c6ba4",
   "metadata": {},
   "source": [
    "##### Loading Json dataset "
   ]
  },
  {
   "cell_type": "code",
   "execution_count": 3,
   "id": "2adca1b1-8dd8-42ee-a1b9-eb409f1286b7",
   "metadata": {},
   "outputs": [],
   "source": [
    "def load_json_dataset(url):\n",
    "    response = requests.get(url)\n",
    "    \n",
    "    if response.status_code == 200:\n",
    "        datastore = json.loads(response.text)\n",
    "    \n",
    "        sentences = []\n",
    "        labels = []\n",
    "    \n",
    "        for item in datastore:\n",
    "            sentences.append(item['headline'])\n",
    "            labels.append(item['is_sarcastic'])\n",
    "        \n",
    "        return datastore, sentences, labels\n",
    "    else:\n",
    "        print(f\"Failed to fetch data from URL. Status code: {response.status_code}\")\n",
    "        return None, None, None"
   ]
  },
  {
   "cell_type": "code",
   "execution_count": 4,
   "id": "3c6a7888-9f05-4989-894c-19c2562d3e2b",
   "metadata": {},
   "outputs": [],
   "source": [
    "datastore, sentences, labels = load_json_dataset(\"https://storage.googleapis.com/learning-datasets/sarcasm.json\")"
   ]
  },
  {
   "cell_type": "code",
   "execution_count": 5,
   "id": "e9981790-0e44-483f-8a23-ea843f9ed346",
   "metadata": {},
   "outputs": [
    {
     "data": {
      "text/plain": [
       "[{'article_link': 'https://www.huffingtonpost.com/entry/versace-black-code_us_5861fbefe4b0de3a08f600d5',\n",
       "  'headline': \"former versace store clerk sues over secret 'black code' for minority shoppers\",\n",
       "  'is_sarcastic': 0},\n",
       " {'article_link': 'https://www.huffingtonpost.com/entry/roseanne-revival-review_us_5ab3a497e4b054d118e04365',\n",
       "  'headline': \"the 'roseanne' revival catches up to our thorny political mood, for better and worse\",\n",
       "  'is_sarcastic': 0},\n",
       " {'article_link': 'https://local.theonion.com/mom-starting-to-fear-son-s-web-series-closest-thing-she-1819576697',\n",
       "  'headline': \"mom starting to fear son's web series closest thing she will have to grandchild\",\n",
       "  'is_sarcastic': 1},\n",
       " {'article_link': 'https://politics.theonion.com/boehner-just-wants-wife-to-listen-not-come-up-with-alt-1819574302',\n",
       "  'headline': 'boehner just wants wife to listen, not come up with alternative debt-reduction ideas',\n",
       "  'is_sarcastic': 1},\n",
       " {'article_link': 'https://www.huffingtonpost.com/entry/jk-rowling-wishes-snape-happy-birthday_us_569117c4e4b0cad15e64fdcb',\n",
       "  'headline': 'j.k. rowling wishes snape happy birthday in the most magical way',\n",
       "  'is_sarcastic': 0}]"
      ]
     },
     "execution_count": 5,
     "metadata": {},
     "output_type": "execute_result"
    }
   ],
   "source": [
    "datastore[:5]"
   ]
  },
  {
   "cell_type": "code",
   "execution_count": 6,
   "id": "bdf0ae82-5ca4-440f-a4da-498afd0d9caa",
   "metadata": {},
   "outputs": [
    {
     "data": {
      "text/plain": [
       "[\"former versace store clerk sues over secret 'black code' for minority shoppers\",\n",
       " \"the 'roseanne' revival catches up to our thorny political mood, for better and worse\",\n",
       " \"mom starting to fear son's web series closest thing she will have to grandchild\",\n",
       " 'boehner just wants wife to listen, not come up with alternative debt-reduction ideas',\n",
       " 'j.k. rowling wishes snape happy birthday in the most magical way']"
      ]
     },
     "execution_count": 6,
     "metadata": {},
     "output_type": "execute_result"
    }
   ],
   "source": [
    "sentences[:5]"
   ]
  },
  {
   "cell_type": "code",
   "execution_count": 7,
   "id": "590aa8f2-7e56-4f74-837f-9e6a1766501a",
   "metadata": {},
   "outputs": [
    {
     "data": {
      "text/plain": [
       "[0, 0, 1, 1, 0, 0, 0, 0, 1, 0]"
      ]
     },
     "execution_count": 7,
     "metadata": {},
     "output_type": "execute_result"
    }
   ],
   "source": [
    "labels[:10]"
   ]
  },
  {
   "cell_type": "markdown",
   "id": "2dfba42f-f089-4c7a-b0a8-44ace36335b8",
   "metadata": {},
   "source": [
    "##### Exporting Json file to text format "
   ]
  },
  {
   "cell_type": "code",
   "execution_count": 8,
   "id": "49084465-dc62-40cc-b4c2-e213083e8d59",
   "metadata": {},
   "outputs": [
    {
     "name": "stdout",
     "output_type": "stream",
     "text": [
      "Loaded 26709 sentences and 26709 labels.\n"
     ]
    }
   ],
   "source": [
    "if datastore:\n",
    "    print(f\"Loaded {len(sentences)} sentences and {len(labels)} labels.\")\n",
    "    #save datastore to a text file\n",
    "    with open(\"datastore.txt\", \"w\") as outfile:\n",
    "        json.dump(datastore, outfile)\n",
    "else:\n",
    "    print(\"Data loading failed.\")"
   ]
  },
  {
   "cell_type": "markdown",
   "id": "01d7d9a6-ae3b-4e94-9a8a-43124424b1a4",
   "metadata": {},
   "source": [
    "##### Feature Engineering - Train and Test Size "
   ]
  },
  {
   "cell_type": "code",
   "execution_count": 9,
   "id": "0b3467a5-4b3d-4380-8753-2f3e286bf2d2",
   "metadata": {},
   "outputs": [],
   "source": [
    "training_size = 20000"
   ]
  },
  {
   "cell_type": "code",
   "execution_count": 10,
   "id": "839cebbb-2bba-4dbb-a2f3-3e7753350e06",
   "metadata": {},
   "outputs": [
    {
     "name": "stdout",
     "output_type": "stream",
     "text": [
      "Training size of data : 20000\n",
      "Testing size of data : 6709\n"
     ]
    }
   ],
   "source": [
    "print(f\"Training size of data : {training_size}\")\n",
    "print(f\"Testing size of data : {len(sentences) - training_size}\")"
   ]
  },
  {
   "cell_type": "code",
   "execution_count": 11,
   "id": "587b6b13-09e7-427f-b0d9-302c79ea99f1",
   "metadata": {},
   "outputs": [],
   "source": [
    "training_sentences = sentences[0:training_size]\n",
    "training_labels = labels[0:training_size]"
   ]
  },
  {
   "cell_type": "code",
   "execution_count": 12,
   "id": "38382286-e226-4264-a320-053ca189c8fb",
   "metadata": {},
   "outputs": [],
   "source": [
    "testing_sentences = sentences[training_size:]\n",
    "testing_labels = labels[training_size:]"
   ]
  },
  {
   "cell_type": "code",
   "execution_count": 13,
   "id": "6e2dc5fd-112f-4cc3-9e97-e6eabf111683",
   "metadata": {},
   "outputs": [],
   "source": [
    "#an object of tokenizer\n",
    "tokenizer = Tokenizer(num_words=10000, oov_token=\"<OOV>\")"
   ]
  },
  {
   "cell_type": "code",
   "execution_count": 14,
   "id": "408aa703-463a-40cd-9a1f-be91a036c9db",
   "metadata": {},
   "outputs": [],
   "source": [
    "#fitting model\n",
    "tokenizer.fit_on_texts(training_sentences)"
   ]
  },
  {
   "cell_type": "code",
   "execution_count": 15,
   "id": "eebe736c-b37d-46da-8db9-75d4d35b4a0e",
   "metadata": {},
   "outputs": [],
   "source": [
    "#word index\n",
    "word_index = tokenizer.word_index"
   ]
  },
  {
   "cell_type": "code",
   "execution_count": 16,
   "id": "067f93ea-5a44-4d31-ab99-a228acbe6816",
   "metadata": {},
   "outputs": [],
   "source": [
    "#text to sequences \n",
    "training_sequences = tokenizer.texts_to_sequences(training_sentences)\n",
    "testing_sequences = tokenizer.texts_to_sequences(testing_sentences)"
   ]
  },
  {
   "cell_type": "code",
   "execution_count": 17,
   "id": "487f470c-da04-49b6-8697-30f674b2c411",
   "metadata": {},
   "outputs": [],
   "source": [
    "#padding \n",
    "training_padded = pad_sequences(training_sequences, maxlen=100, padding='post', truncating='post')\n",
    "testing_padded = pad_sequences(testing_sequences, maxlen=100, padding='post', truncating='post')"
   ]
  },
  {
   "cell_type": "code",
   "execution_count": 18,
   "id": "b77a26ff-d388-41f2-99e0-94b71640cd8e",
   "metadata": {},
   "outputs": [],
   "source": [
    "#comverting to numpy array\n",
    "training_padded = np.array(training_padded)\n",
    "training_labels = np.array(training_labels)\n",
    "testing_padded = np.array(testing_padded)\n",
    "testing_labels = np.array(testing_labels)"
   ]
  },
  {
   "cell_type": "markdown",
   "id": "db7f22e5-1082-499d-8f79-7e859fe178eb",
   "metadata": {},
   "source": [
    "##### Selecting Model "
   ]
  },
  {
   "cell_type": "code",
   "execution_count": 19,
   "id": "b9caa8c2-3e06-44aa-ac01-6ab566be3b2e",
   "metadata": {},
   "outputs": [],
   "source": [
    "model = tf.keras.Sequential([\n",
    "    tf.keras.layers.Embedding(10000, 16, input_length=100),\n",
    "    tf.keras.layers.SimpleRNN(32),\n",
    "    tf.keras.layers.Dense(24, activation='relu'),\n",
    "    tf.keras.layers.Dense(1, activation='sigmoid')\n",
    "])"
   ]
  },
  {
   "cell_type": "code",
   "execution_count": 20,
   "id": "669666f2-caff-44a0-9ca4-94e90aad3cf7",
   "metadata": {},
   "outputs": [
    {
     "name": "stdout",
     "output_type": "stream",
     "text": [
      "Model: \"sequential\"\n",
      "_________________________________________________________________\n",
      " Layer (type)                Output Shape              Param #   \n",
      "=================================================================\n",
      " embedding (Embedding)       (None, 100, 16)           160000    \n",
      "                                                                 \n",
      " simple_rnn (SimpleRNN)      (None, 32)                1568      \n",
      "                                                                 \n",
      " dense (Dense)               (None, 24)                792       \n",
      "                                                                 \n",
      " dense_1 (Dense)             (None, 1)                 25        \n",
      "                                                                 \n",
      "=================================================================\n",
      "Total params: 162385 (634.32 KB)\n",
      "Trainable params: 162385 (634.32 KB)\n",
      "Non-trainable params: 0 (0.00 Byte)\n",
      "_________________________________________________________________\n"
     ]
    }
   ],
   "source": [
    "model.summary()"
   ]
  },
  {
   "cell_type": "code",
   "execution_count": 21,
   "id": "4f85648e-cf32-4147-986d-06e7047c19e0",
   "metadata": {},
   "outputs": [],
   "source": [
    "model.compile(loss='binary_crossentropy', optimizer='adam', metrics=['accuracy'])"
   ]
  },
  {
   "cell_type": "code",
   "execution_count": 22,
   "id": "03fb0eec-c8ce-4f67-acf4-01f6a589b812",
   "metadata": {},
   "outputs": [
    {
     "name": "stdout",
     "output_type": "stream",
     "text": [
      "Epoch 1/50\n",
      "625/625 - 17s - loss: 0.6874 - accuracy: 0.5540 - val_loss: 0.6915 - val_accuracy: 0.5633 - 17s/epoch - 27ms/step\n",
      "Epoch 2/50\n",
      "625/625 - 15s - loss: 0.6401 - accuracy: 0.6405 - val_loss: 0.6114 - val_accuracy: 0.6976 - 15s/epoch - 23ms/step\n",
      "Epoch 3/50\n",
      "625/625 - 13s - loss: 0.4877 - accuracy: 0.7792 - val_loss: 0.5531 - val_accuracy: 0.7441 - 13s/epoch - 21ms/step\n",
      "Epoch 4/50\n",
      "625/625 - 11s - loss: 0.4163 - accuracy: 0.8252 - val_loss: 0.5777 - val_accuracy: 0.7409 - 11s/epoch - 18ms/step\n",
      "Epoch 5/50\n",
      "625/625 - 13s - loss: 0.3331 - accuracy: 0.8716 - val_loss: 0.5736 - val_accuracy: 0.7640 - 13s/epoch - 21ms/step\n",
      "Epoch 6/50\n",
      "625/625 - 14s - loss: 0.2813 - accuracy: 0.8945 - val_loss: 0.6204 - val_accuracy: 0.7441 - 14s/epoch - 23ms/step\n",
      "Epoch 7/50\n",
      "625/625 - 11s - loss: 0.2415 - accuracy: 0.9127 - val_loss: 0.6463 - val_accuracy: 0.7511 - 11s/epoch - 18ms/step\n",
      "Epoch 8/50\n",
      "625/625 - 12s - loss: 0.2110 - accuracy: 0.9246 - val_loss: 0.6720 - val_accuracy: 0.7532 - 12s/epoch - 19ms/step\n",
      "Epoch 9/50\n",
      "625/625 - 12s - loss: 0.1823 - accuracy: 0.9374 - val_loss: 0.7098 - val_accuracy: 0.7472 - 12s/epoch - 19ms/step\n",
      "Epoch 10/50\n",
      "625/625 - 13s - loss: 0.1688 - accuracy: 0.9421 - val_loss: 0.7359 - val_accuracy: 0.7508 - 13s/epoch - 21ms/step\n",
      "Epoch 11/50\n",
      "625/625 - 13s - loss: 0.1487 - accuracy: 0.9501 - val_loss: 0.7885 - val_accuracy: 0.7521 - 13s/epoch - 21ms/step\n",
      "Epoch 12/50\n",
      "625/625 - 14s - loss: 0.1334 - accuracy: 0.9582 - val_loss: 0.8108 - val_accuracy: 0.7471 - 14s/epoch - 23ms/step\n",
      "Epoch 13/50\n",
      "625/625 - 12s - loss: 0.1260 - accuracy: 0.9607 - val_loss: 0.8317 - val_accuracy: 0.7478 - 12s/epoch - 19ms/step\n",
      "Epoch 14/50\n",
      "625/625 - 11s - loss: 0.1239 - accuracy: 0.9621 - val_loss: 0.8549 - val_accuracy: 0.7433 - 11s/epoch - 18ms/step\n",
      "Epoch 15/50\n",
      "625/625 - 11s - loss: 0.1091 - accuracy: 0.9674 - val_loss: 0.8569 - val_accuracy: 0.7335 - 11s/epoch - 18ms/step\n",
      "Epoch 16/50\n",
      "625/625 - 11s - loss: 0.1004 - accuracy: 0.9694 - val_loss: 0.9500 - val_accuracy: 0.7375 - 11s/epoch - 18ms/step\n",
      "Epoch 17/50\n",
      "625/625 - 11s - loss: 0.0855 - accuracy: 0.9751 - val_loss: 0.9051 - val_accuracy: 0.7421 - 11s/epoch - 17ms/step\n",
      "Epoch 18/50\n",
      "625/625 - 12s - loss: 0.0865 - accuracy: 0.9748 - val_loss: 0.9616 - val_accuracy: 0.7466 - 12s/epoch - 19ms/step\n",
      "Epoch 19/50\n",
      "625/625 - 11s - loss: 0.0722 - accuracy: 0.9794 - val_loss: 1.0582 - val_accuracy: 0.7469 - 11s/epoch - 18ms/step\n",
      "Epoch 20/50\n",
      "625/625 - 11s - loss: 0.1157 - accuracy: 0.9643 - val_loss: 0.8584 - val_accuracy: 0.7327 - 11s/epoch - 18ms/step\n",
      "Epoch 21/50\n",
      "625/625 - 11s - loss: 0.1059 - accuracy: 0.9692 - val_loss: 0.8890 - val_accuracy: 0.7471 - 11s/epoch - 17ms/step\n",
      "Epoch 22/50\n",
      "625/625 - 11s - loss: 0.0973 - accuracy: 0.9691 - val_loss: 0.9268 - val_accuracy: 0.7435 - 11s/epoch - 18ms/step\n",
      "Epoch 23/50\n",
      "625/625 - 11s - loss: 0.0633 - accuracy: 0.9814 - val_loss: 1.0359 - val_accuracy: 0.7454 - 11s/epoch - 18ms/step\n",
      "Epoch 24/50\n",
      "625/625 - 11s - loss: 0.0698 - accuracy: 0.9793 - val_loss: 1.0531 - val_accuracy: 0.7453 - 11s/epoch - 17ms/step\n",
      "Epoch 25/50\n",
      "625/625 - 11s - loss: 0.0542 - accuracy: 0.9848 - val_loss: 1.0678 - val_accuracy: 0.7481 - 11s/epoch - 18ms/step\n",
      "Epoch 26/50\n",
      "625/625 - 11s - loss: 0.0470 - accuracy: 0.9871 - val_loss: 1.1171 - val_accuracy: 0.7462 - 11s/epoch - 17ms/step\n",
      "Epoch 27/50\n",
      "625/625 - 9s - loss: 0.1109 - accuracy: 0.9653 - val_loss: 0.8072 - val_accuracy: 0.7366 - 9s/epoch - 14ms/step\n",
      "Epoch 28/50\n",
      "625/625 - 8s - loss: 0.1023 - accuracy: 0.9679 - val_loss: 0.9373 - val_accuracy: 0.7435 - 8s/epoch - 14ms/step\n",
      "Epoch 29/50\n",
      "625/625 - 9s - loss: 0.0809 - accuracy: 0.9756 - val_loss: 1.0113 - val_accuracy: 0.7317 - 9s/epoch - 15ms/step\n",
      "Epoch 30/50\n",
      "625/625 - 8s - loss: 0.1010 - accuracy: 0.9679 - val_loss: 0.9821 - val_accuracy: 0.7345 - 8s/epoch - 13ms/step\n",
      "Epoch 31/50\n",
      "625/625 - 9s - loss: 0.1161 - accuracy: 0.9631 - val_loss: 0.9027 - val_accuracy: 0.7396 - 9s/epoch - 14ms/step\n",
      "Epoch 32/50\n",
      "625/625 - 8s - loss: 0.0703 - accuracy: 0.9784 - val_loss: 1.0885 - val_accuracy: 0.7402 - 8s/epoch - 14ms/step\n",
      "Epoch 33/50\n",
      "625/625 - 9s - loss: 0.0621 - accuracy: 0.9829 - val_loss: 1.0298 - val_accuracy: 0.7393 - 9s/epoch - 14ms/step\n",
      "Epoch 34/50\n",
      "625/625 - 9s - loss: 0.0834 - accuracy: 0.9747 - val_loss: 1.0098 - val_accuracy: 0.7363 - 9s/epoch - 14ms/step\n",
      "Epoch 35/50\n",
      "625/625 - 9s - loss: 0.1150 - accuracy: 0.9632 - val_loss: 0.9086 - val_accuracy: 0.7351 - 9s/epoch - 15ms/step\n",
      "Epoch 36/50\n",
      "625/625 - 12s - loss: 0.1386 - accuracy: 0.9538 - val_loss: 0.8731 - val_accuracy: 0.7433 - 12s/epoch - 19ms/step\n",
      "Epoch 37/50\n",
      "625/625 - 10s - loss: 0.2269 - accuracy: 0.9158 - val_loss: 0.7542 - val_accuracy: 0.7280 - 10s/epoch - 15ms/step\n",
      "Epoch 38/50\n",
      "625/625 - 10s - loss: 0.1937 - accuracy: 0.9266 - val_loss: 0.8303 - val_accuracy: 0.7320 - 10s/epoch - 15ms/step\n",
      "Epoch 39/50\n",
      "625/625 - 10s - loss: 0.1424 - accuracy: 0.9534 - val_loss: 0.8626 - val_accuracy: 0.7389 - 10s/epoch - 17ms/step\n",
      "Epoch 40/50\n",
      "625/625 - 11s - loss: 0.1210 - accuracy: 0.9632 - val_loss: 0.8645 - val_accuracy: 0.7372 - 11s/epoch - 18ms/step\n",
      "Epoch 41/50\n",
      "625/625 - 10s - loss: 0.1399 - accuracy: 0.9510 - val_loss: 0.8690 - val_accuracy: 0.7344 - 10s/epoch - 16ms/step\n",
      "Epoch 42/50\n",
      "625/625 - 11s - loss: 0.1623 - accuracy: 0.9452 - val_loss: 0.8932 - val_accuracy: 0.7350 - 11s/epoch - 17ms/step\n",
      "Epoch 43/50\n",
      "625/625 - 11s - loss: 0.1316 - accuracy: 0.9597 - val_loss: 0.8918 - val_accuracy: 0.7454 - 11s/epoch - 17ms/step\n",
      "Epoch 44/50\n",
      "625/625 - 11s - loss: 0.1001 - accuracy: 0.9707 - val_loss: 0.8805 - val_accuracy: 0.7375 - 11s/epoch - 18ms/step\n",
      "Epoch 45/50\n",
      "625/625 - 11s - loss: 0.0995 - accuracy: 0.9712 - val_loss: 0.9065 - val_accuracy: 0.7323 - 11s/epoch - 18ms/step\n",
      "Epoch 46/50\n",
      "625/625 - 11s - loss: 0.0781 - accuracy: 0.9778 - val_loss: 0.9561 - val_accuracy: 0.7338 - 11s/epoch - 17ms/step\n",
      "Epoch 47/50\n",
      "625/625 - 11s - loss: 0.0778 - accuracy: 0.9773 - val_loss: 0.8842 - val_accuracy: 0.7347 - 11s/epoch - 18ms/step\n",
      "Epoch 48/50\n",
      "625/625 - 11s - loss: 0.0700 - accuracy: 0.9807 - val_loss: 1.0394 - val_accuracy: 0.7395 - 11s/epoch - 18ms/step\n",
      "Epoch 49/50\n",
      "625/625 - 11s - loss: 0.0704 - accuracy: 0.9801 - val_loss: 0.9887 - val_accuracy: 0.7441 - 11s/epoch - 18ms/step\n",
      "Epoch 50/50\n",
      "625/625 - 10s - loss: 0.1069 - accuracy: 0.9668 - val_loss: 0.8747 - val_accuracy: 0.7339 - 10s/epoch - 17ms/step\n"
     ]
    }
   ],
   "source": [
    "num_epochs = 50\n",
    "history = model.fit(training_padded, training_labels, epochs=num_epochs, validation_data=(testing_padded, testing_labels), verbose=2)"
   ]
  },
  {
   "cell_type": "markdown",
   "id": "42066874-4b56-4772-8909-1e15112d72ad",
   "metadata": {},
   "source": [
    "##### Loss and Accuracy plot "
   ]
  },
  {
   "cell_type": "code",
   "execution_count": 23,
   "id": "d43ff789-f029-4a90-986b-b21073530110",
   "metadata": {},
   "outputs": [],
   "source": [
    "def plot_graphs(history, string, title=None, xlabel=\"Epochs\", ylabel=None):\n",
    "    plt.figure(figsize=(6, 5))\n",
    "    epochs = range(1, len(history.history[string]) + 1)\n",
    "    train_values = history.history[string]\n",
    "    val_values = history.history['val_' + string]\n",
    "\n",
    "    plt.plot(epochs, train_values, linestyle='-', color='blue', label='Training ' + string)\n",
    "    plt.plot(epochs, val_values, linestyle='-', color='green', label='Validation ' + string)\n",
    "\n",
    "    if title:\n",
    "        plt.title(title)\n",
    "    if xlabel:\n",
    "        plt.xlabel(xlabel)\n",
    "    if ylabel:\n",
    "        plt.ylabel(ylabel)\n",
    "\n",
    "    plt.legend()\n",
    "    plt.grid(True, linestyle='--', color='black', alpha=0.2)\n",
    "    plt.show()"
   ]
  },
  {
   "cell_type": "code",
   "execution_count": 24,
   "id": "9a1ff883-aad4-4a8f-b480-4f14afd53ec1",
   "metadata": {},
   "outputs": [
    {
     "data": {
      "image/png": "[encoded data removed]",
      "text/plain": [
       "<Figure size 600x500 with 1 Axes>"
      ]
     },
     "metadata": {},
     "output_type": "display_data"
    }
   ],
   "source": [
    "plot_graphs(history, \"accuracy\")"
   ]
  },
  {
   "cell_type": "code",
   "execution_count": 25,
   "id": "1ea75cd5-aef3-42c9-a44c-d6c7b4371fe0",
   "metadata": {},
   "outputs": [
    {
     "data": {
      "image/png": "[encoded data removed]",
      "text/plain": [
       "<Figure size 600x500 with 1 Axes>"
      ]
     },
     "metadata": {},
     "output_type": "display_data"
    }
   ],
   "source": [
    "plot_graphs(history, \"loss\")"
   ]
  },
  {
   "cell_type": "code",
   "execution_count": 26,
   "id": "5cab5963-35c6-4436-be18-06a81d947c22",
   "metadata": {},
   "outputs": [],
   "source": [
    "#inversing word index\n",
    "reverse_word_index = {}\n",
    "for key, value in word_index.items():\n",
    "    reverse_word_index[value] = key"
   ]
  },
  {
   "cell_type": "code",
   "execution_count": 27,
   "id": "3373d3c6-2b6a-4d54-a743-d158f32219b4",
   "metadata": {},
   "outputs": [],
   "source": [
    "#decoding sentence\n",
    "def decode_sentence(text):\n",
    "    return ' '.join([reverse_word_index.get(i, '?') for i in text])"
   ]
  },
  {
   "cell_type": "code",
   "execution_count": 28,
   "id": "48c9b915-1428-4612-9a05-9e7553387033",
   "metadata": {},
   "outputs": [
    {
     "name": "stdout",
     "output_type": "stream",
     "text": [
      "former <OOV> store clerk sues over secret 'black <OOV> for minority shoppers ? ? ? ? ? ? ? ? ? ? ? ? ? ? ? ? ? ? ? ? ? ? ? ? ? ? ? ? ? ? ? ? ? ? ? ? ? ? ? ? ? ? ? ? ? ? ? ? ? ? ? ? ? ? ? ? ? ? ? ? ? ? ? ? ? ? ? ? ? ? ? ? ? ? ? ? ? ? ? ? ? ? ? ? ? ? ? ?\n"
     ]
    }
   ],
   "source": [
    "print(decode_sentence(training_padded[0]))"
   ]
  },
  {
   "cell_type": "code",
   "execution_count": 29,
   "id": "74d6033a-c014-46bd-a187-906d1ba21023",
   "metadata": {},
   "outputs": [
    {
     "name": "stdout",
     "output_type": "stream",
     "text": [
      "mom starting to fear son's web series closest thing she will have to grandchild\n"
     ]
    }
   ],
   "source": [
    "print(training_sentences[2])"
   ]
  },
  {
   "cell_type": "code",
   "execution_count": 30,
   "id": "b29cea45-93ea-48f7-b1e6-f0fc0c13918b",
   "metadata": {},
   "outputs": [
    {
     "name": "stdout",
     "output_type": "stream",
     "text": [
      "1\n"
     ]
    }
   ],
   "source": [
    "print(labels[2])"
   ]
  },
  {
   "cell_type": "code",
   "execution_count": 31,
   "id": "cfa7fc0f-9d2e-4be8-ad6d-f2caac5eacce",
   "metadata": {},
   "outputs": [],
   "source": [
    "#vocab_size, embedding_dim\n",
    "e = model.layers[0]\n",
    "weights = e.get_weights()[0]"
   ]
  },
  {
   "cell_type": "code",
   "execution_count": 32,
   "id": "c217af89-a1d3-4d61-8661-870eea89bea2",
   "metadata": {},
   "outputs": [
    {
     "name": "stdout",
     "output_type": "stream",
     "text": [
      "(10000, 16)\n"
     ]
    }
   ],
   "source": [
    "print(weights.shape) "
   ]
  },
  {
   "cell_type": "code",
   "execution_count": 33,
   "id": "70086a83-f6ac-4c16-a660-873f1c39edb5",
   "metadata": {},
   "outputs": [],
   "source": [
    "out_v = io.open('vecs.tsv', 'w', encoding='utf-8')\n",
    "out_m = io.open('meta.tsv', 'w', encoding='utf-8')\n",
    "for word_num in range(1, 10000):\n",
    "  word = reverse_word_index[word_num]\n",
    "  embeddings = weights[word_num]\n",
    "  out_m.write(word + \"\\n\")\n",
    "  out_v.write('\\t'.join([str(x) for x in embeddings]) + \"\\n\")\n",
    "out_v.close()\n",
    "out_m.close()"
   ]
  },
  {
   "cell_type": "code",
   "execution_count": 34,
   "id": "db25dca4-1d56-4ea2-8ef5-f3d27a55bcea",
   "metadata": {},
   "outputs": [],
   "source": [
    "sentence = [\"granny starting to fear spiders in the garden might be real\", \"game of thrones season finale showing this sunday night\"]"
   ]
  },
  {
   "cell_type": "code",
   "execution_count": 35,
   "id": "50abeff0-7990-49c7-a84a-97c259ababa2",
   "metadata": {},
   "outputs": [],
   "source": [
    "sequences = tokenizer.texts_to_sequences(sentence)\n",
    "padded = pad_sequences(sequences, maxlen=100, padding='post', truncating='post')"
   ]
  },
  {
   "cell_type": "code",
   "execution_count": 36,
   "id": "bec5fe08-a922-4dd2-9f92-7420d253d2ae",
   "metadata": {},
   "outputs": [
    {
     "name": "stdout",
     "output_type": "stream",
     "text": [
      "1/1 [==============================] - 0s 447ms/step\n"
     ]
    }
   ],
   "source": [
    "predictions = model.predict(padded)"
   ]
  },
  {
   "cell_type": "code",
   "execution_count": 37,
   "id": "682296fd-a0e8-44ae-8e8b-2be5d3c3bc84",
   "metadata": {},
   "outputs": [],
   "source": [
    "np.set_printoptions(suppress=True)"
   ]
  },
  {
   "cell_type": "code",
   "execution_count": 38,
   "id": "21153713-db7a-4da3-9286-074f09edb87e",
   "metadata": {},
   "outputs": [
    {
     "name": "stdout",
     "output_type": "stream",
     "text": [
      "[[0.03308396]\n",
      " [0.05850819]]\n"
     ]
    }
   ],
   "source": [
    "print(predictions)"
   ]
  },
  {
   "cell_type": "markdown",
   "id": "422bc607-5d67-4981-8dc0-a9f918e70d41",
   "metadata": {},
   "source": [
    "Close to 1 : High probability of sarcasm\n",
    "\n",
    "Close to 0 : Low probability of sarcasm "
   ]
  },
  {
   "cell_type": "code",
   "execution_count": 39,
   "id": "9992446f-5d35-4986-92c8-05844d7f4851",
   "metadata": {},
   "outputs": [],
   "source": [
    "def text_classification_test(string):\n",
    "    temp_sequences = tokenizer.texts_to_sequences([string])\n",
    "    temp_padded = pad_sequences(temp_sequences, maxlen=100, padding='post', truncating='post')\n",
    "    temp_predictions = model.predict(temp_padded)\n",
    "    #model returns a single prediction value\n",
    "    sentiment_score = temp_predictions[0]  \n",
    "    classification = \"\"\n",
    "\n",
    "    if sentiment_score < -0.4:\n",
    "        classification = \"Very Bad\"\n",
    "    elif sentiment_score < 0:\n",
    "        classification = \"Bad\"\n",
    "    elif sentiment_score < 0.5:\n",
    "        classification = \"Not Bad\"\n",
    "    else:\n",
    "        classification = \"Good\"\n",
    "\n",
    "    print(f\"Text: {string}\")\n",
    "    print(f\"Sentiment Score: {sentiment_score}\")\n",
    "    print(f\"Classification: {classification}\")"
   ]
  },
  {
   "cell_type": "code",
   "execution_count": 40,
   "id": "2037e23d-88b8-45c6-8f30-ca9db5ceebfe",
   "metadata": {},
   "outputs": [
    {
     "name": "stdout",
     "output_type": "stream",
     "text": [
      "1/1 [==============================] - 0s 39ms/step\n",
      "Text: Oh, great! Another Monday to look forward to\n",
      "Sentiment Score: [0.98063445]\n",
      "Classification: Good\n"
     ]
    }
   ],
   "source": [
    "text_classification_test(\"Oh, great! Another Monday to look forward to\")"
   ]
  },
  {
   "cell_type": "code",
   "execution_count": 41,
   "id": "ddbdea7a-a2fd-4b6f-af67-1a76e1eafbe5",
   "metadata": {},
   "outputs": [
    {
     "name": "stdout",
     "output_type": "stream",
     "text": [
      "1/1 [==============================] - 0s 47ms/step\n",
      "Text: Wow, my day couldn't get any better! Another flat tire on my way to work in this pouring rain.\n",
      "Sentiment Score: [0.00615104]\n",
      "Classification: Not Bad\n"
     ]
    }
   ],
   "source": [
    "text_classification_test(\"Wow, my day couldn't get any better! Another flat tire on my way to work in this pouring rain.\")"
   ]
  },
  {
   "cell_type": "code",
   "execution_count": 42,
   "id": "124ec675-41c2-447b-a9a6-e0492a68168c",
   "metadata": {},
   "outputs": [
    {
     "name": "stdout",
     "output_type": "stream",
     "text": [
      "1/1 [==============================] - 0s 46ms/step\n",
      "Text: I'm absolutely thrilled to be stuck in traffic for hours on a Friday evening.\n",
      "Sentiment Score: [0.72016823]\n",
      "Classification: Good\n"
     ]
    }
   ],
   "source": [
    "text_classification_test(\"I'm absolutely thrilled to be stuck in traffic for hours on a Friday evening.\")"
   ]
  },
  {
   "cell_type": "code",
   "execution_count": 43,
   "id": "02b865fa-e3f4-4c58-a7d0-e9e3b99c5eac",
   "metadata": {},
   "outputs": [
    {
     "name": "stdout",
     "output_type": "stream",
     "text": [
      "1/1 [==============================] - 0s 49ms/step\n",
      "Text: I just won the lottery, and now I have to pay taxes on it! Life is so unfair.\n",
      "Sentiment Score: [0.02369536]\n",
      "Classification: Not Bad\n"
     ]
    }
   ],
   "source": [
    "text_classification_test(\"I just won the lottery, and now I have to pay taxes on it! Life is so unfair.\")"
   ]
  },
  {
   "cell_type": "markdown",
   "id": "64520719-95d5-43c1-9809-f8a85281a6e3",
   "metadata": {},
   "source": [
    "**References:**\r\n",
    "\r\n",
    "**Book:**\r\n",
    "\r\n",
    "- *Sculpting Data for ML: The First Act of Machine Learning*\r\n",
    "  - Authors: Jigyasa Grover, Rishabh Misra\r\n",
    "  - Publisher: Jigyasa Grover & Rishabh Misra\r\n",
    "  - Year: 2021\r\n",
    "  - ISBN: 9798585463570\r\n",
    "  - Page Count: 158\r\n",
    "  - Language: English\r\n",
    "  - Contributors: Julian McAuley, Laurence Moroney, Mengting Wan\r\n",
    "ting Wan\r\n"
   ]
  }
 ],
 "metadata": {
  "kernelspec": {
   "display_name": "Python 3 (ipykernel)",
   "language": "python",
   "name": "python3"
  },
  "language_info": {
   "codemirror_mode": {
    "name": "ipython",
    "version": 3
   },
   "file_extension": ".py",
   "mimetype": "text/x-python",
   "name": "python",
   "nbconvert_exporter": "python",
   "pygments_lexer": "ipython3",
   "version": "3.11.7"
  }
 },
 "nbformat": 4,
 "nbformat_minor": 5
}
